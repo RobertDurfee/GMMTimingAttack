{
 "cells": [
  {
   "cell_type": "code",
   "execution_count": 1,
   "metadata": {},
   "outputs": [],
   "source": [
    "import numpy"
   ]
  },
  {
   "cell_type": "code",
   "execution_count": 46,
   "metadata": {},
   "outputs": [],
   "source": [
    "def f(X, mu_1, sigma2_1, mu_2, sigma2_2, q2_1, q_2, q_3, p):\n",
    "    \n",
    "    return (mu_1 ** 2) / (2 * q2_1) \\\n",
    "         + (mu_2 ** 2) / (2 * q2_1) \\\n",
    "         + (q_2 * sigma2_1) \\\n",
    "         + (q_3 * sigma2_2) \\\n",
    "         + np.sum(np.log(p / sigma2_1 ** (1 / 2) \\\n",
    "                       * np.exp(-(X - mu_1) ** 2 / (2 * sigma2_1)) \\\n",
    "                       + (1 - p) / sigma2_2 ** (1 / 2) \\\n",
    "                       * np.exp(-(X - mu_2) ** 2 / (2 * sigma2_2))))"
   ]
  },
  {
   "cell_type": "code",
   "execution_count": 51,
   "metadata": {},
   "outputs": [],
   "source": [
    "def dfdmu_1(X, mu_1, sigma2_1, mu_2, sigma2_2, q2_1, q_2, q_3, p):\n",
    "    \n",
    "    return mu_1 / q2_1 \\\n",
    "         + np.sum((p * (X - mu_1) * np.exp(-(X - mu_1) ** 2 / (2 * sigma2_1))) \\\n",
    "                 / sigma2_1 ** (3 / 2) * (p / sigma2_1 ** (1 / 2) \\\n",
    "                                          * np.exp(-(X - mu_1) ** 2 / (2 * sigma2_1)) \\\n",
    "                                          + (1 - p) / sigma2_2 ** (1 / 2) \n",
    "                                          * np.exp(-(X - mu_2) ** 2 / (2 * sigma2_2))))"
   ]
  },
  {
   "cell_type": "code",
   "execution_count": 69,
   "metadata": {},
   "outputs": [],
   "source": [
    "def dfdsigma2_1(X, mu_1, sigma2_1, mu_2, sigma2_2, q2_1, q_2, q_3, p):\n",
    "    \n",
    "    return q_2 \\\n",
    "         + np.sum((p / (2 * sigma2_1 ** (3 / 2)) \\\n",
    "                   * np.exp(-(X - mu_1) ** 2 / (2 * sigma2_1)) \\\n",
    "                   - p * (X - mu_1) ** 2 / (2 * sigma2_1 ** (5 / 2)) \\\n",
    "                   * np.exp(-(X - mu_1) ** 2 / (2 * sigma2_1))) \\\n",
    "                  / (p / sigma2_1 ** (1 / 2) \\\n",
    "                     * np.exp(-(X - mu_1) ** 2 / (2 * sigma2_1)) \\\n",
    "                     + (1 - p) / sigma2_2 ** (1 / 2) \\\n",
    "                     * np.exp(-(X - mu_2) ** 2 / (2 * sigma2_2))))"
   ]
  },
  {
   "cell_type": "code",
   "execution_count": 53,
   "metadata": {},
   "outputs": [],
   "source": [
    "def dfdmu_2(X, mu_1, sigma2_1, mu_2, sigma2_2, q2_1, q_2, q_3, p):\n",
    "    \n",
    "    return mu_2 / q2_1 \\\n",
    "         + np.sum(((1 - p) * (X - mu_2) * np.exp(-(X - mu_2) ** 2 / (2 * sigma2_2))) \\\n",
    "                 / sigma2_2 ** (3 / 2) * (p / sigma2_1 ** (1 / 2) \\\n",
    "                                          * np.exp(-(X - mu_1) ** 2 / (2 * sigma2_1)) \\\n",
    "                                          + (1 - p) / sigma2_2 ** (1 / 2) \n",
    "                                          * np.exp(-(X - mu_2) ** 2 / (2 * sigma2_2))))"
   ]
  },
  {
   "cell_type": "code",
   "execution_count": 71,
   "metadata": {},
   "outputs": [],
   "source": [
    "def dfdsigma2_2(X, mu_1, sigma2_1, mu_2, sigma2_2, q2_1, q_2, q_3, p):\n",
    "    \n",
    "    return q_3 \\\n",
    "         + np.sum(((1 - p) / (2 * sigma2_2 ** (3 / 2)) \\\n",
    "                   * np.exp(-(X - mu_2) ** 2 / (2 * sigma2_2)) \\\n",
    "                   - (1 - p) * (X - mu_2) ** 2 / (2 * sigma2_2 ** (5 / 2)) \\\n",
    "                   * np.exp(-(X - mu_2) ** 2 / (2 * sigma2_2))) \\\n",
    "                  / (p / sigma2_1 ** (1 / 2) \\\n",
    "                     * np.exp(-(X - mu_1) ** 2 / (2 * sigma2_1)) \\\n",
    "                     + (1 - p) / sigma2_2 ** (1 / 2) \\\n",
    "                     * np.exp(-(X - mu_2) ** 2 / (2 * sigma2_2))))"
   ]
  }
 ],
 "metadata": {
  "kernelspec": {
   "display_name": "Python 3",
   "language": "python",
   "name": "python3"
  },
  "language_info": {
   "codemirror_mode": {
    "name": "ipython",
    "version": 3
   },
   "file_extension": ".py",
   "mimetype": "text/x-python",
   "name": "python",
   "nbconvert_exporter": "python",
   "pygments_lexer": "ipython3",
   "version": "3.6.7"
  }
 },
 "nbformat": 4,
 "nbformat_minor": 2
}
