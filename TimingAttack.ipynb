{
 "cells": [
  {
   "cell_type": "code",
   "execution_count": 54,
   "metadata": {},
   "outputs": [],
   "source": [
    "import matplotlib.pyplot as plt\n",
    "from timeit import default_timer as timer\n",
    "import random\n",
    "import string\n",
    "import numpy as np"
   ]
  },
  {
   "cell_type": "markdown",
   "metadata": {},
   "source": [
    "# Timing Attack\n",
    "\n",
    "Here we try to understand how a timing attack could work.\n",
    "\n",
    "## String Compare\n",
    "\n",
    "We create a very naive (and slow) method for comparing strings. It doesn't return a result (we don't really care about the result), it just terminates when the strings become different or, if they are equal, when the end is reached."
   ]
  },
  {
   "cell_type": "code",
   "execution_count": 89,
   "metadata": {},
   "outputs": [],
   "source": [
    "def simple_string_compare(a, b):\n",
    "    \n",
    "    i = 0\n",
    "    \n",
    "    while i < len(a) and i < len(b):\n",
    "        \n",
    "        if a[i] != b[i]:\n",
    "            return\n",
    "        \n",
    "        i += 1"
   ]
  },
  {
   "cell_type": "markdown",
   "metadata": {},
   "source": [
    "## Unknown Password\n",
    "\n",
    "We create a random 24 character password we wish to guess."
   ]
  },
  {
   "cell_type": "code",
   "execution_count": 128,
   "metadata": {},
   "outputs": [
    {
     "name": "stdout",
     "output_type": "stream",
     "text": [
      "Unknown password: IKVz0CaMqqjxRDJ34oZ8D8QO\n"
     ]
    }
   ],
   "source": [
    "unknown_password = ''.join(random.choices(string.ascii_uppercase + string.ascii_lowercase + string.digits, k=24))\n",
    "print(f\"Unknown password: {unknown_password}\")"
   ]
  },
  {
   "cell_type": "markdown",
   "metadata": {},
   "source": [
    "## Attempted Password\n",
    "\n",
    "We create a random 24 character password as a guess (assuming for now that we know the password is 24 characters)."
   ]
  },
  {
   "cell_type": "code",
   "execution_count": 129,
   "metadata": {},
   "outputs": [
    {
     "name": "stdout",
     "output_type": "stream",
     "text": [
      "Guess password: JuuKZIMHcI3NimvMPPak9kZx\n"
     ]
    }
   ],
   "source": [
    "guess_password = ''.join(random.choices(string.ascii_uppercase + string.ascii_lowercase + string.digits, k=24))\n",
    "\n",
    "# Ensure the first character is different\n",
    "while guess_password[0] == unknown_password[0]:\n",
    "    guess_password = ''.join(random.choices(string.ascii_uppercase + string.ascii_lowercase + string.digits, k=24))\n",
    "\n",
    "print(f\"Guess password: {guess_password}\")"
   ]
  },
  {
   "cell_type": "markdown",
   "metadata": {},
   "source": [
    "And another password where the first character is actually correct."
   ]
  },
  {
   "cell_type": "code",
   "execution_count": 130,
   "metadata": {},
   "outputs": [
    {
     "name": "stdout",
     "output_type": "stream",
     "text": [
      "Close password: I0E5vC2eMJttTHqdn1OhX67x\n"
     ]
    }
   ],
   "source": [
    "close_password = ''.join([unknown_password[0]] + \\\n",
    "                         random.choices(string.ascii_uppercase + string.ascii_lowercase + string.digits, k=23))\n",
    "print(f\"Close password: {close_password}\")"
   ]
  },
  {
   "cell_type": "markdown",
   "metadata": {},
   "source": [
    "## Simple Timing\n",
    "\n",
    "First we run the string comparison for the wrong password."
   ]
  },
  {
   "cell_type": "code",
   "execution_count": 131,
   "metadata": {},
   "outputs": [],
   "source": [
    "guess_times = []\n",
    "\n",
    "for i in range(100):\n",
    "    \n",
    "    start = timer()\n",
    "    simple_string_compare(unknown_password, guess_password)\n",
    "    end = timer()\n",
    "    \n",
    "    guess_times += [end - start]"
   ]
  },
  {
   "cell_type": "markdown",
   "metadata": {},
   "source": [
    "Now for the close password."
   ]
  },
  {
   "cell_type": "code",
   "execution_count": 132,
   "metadata": {},
   "outputs": [],
   "source": [
    "close_times = []\n",
    "\n",
    "for i in range(100):\n",
    "    \n",
    "    start = timer()\n",
    "    simple_string_compare(unknown_password, close_password)\n",
    "    end = timer()\n",
    "    \n",
    "    close_times += [end - start]"
   ]
  },
  {
   "cell_type": "markdown",
   "metadata": {},
   "source": [
    "And plot the results."
   ]
  },
  {
   "cell_type": "code",
   "execution_count": 133,
   "metadata": {},
   "outputs": [
    {
     "data": {
      "image/png": "[encoded data removed]",
      "text/plain": [
       "<Figure size 432x288 with 1 Axes>"
      ]
     },
     "metadata": {
      "needs_background": "light"
     },
     "output_type": "display_data"
    }
   ],
   "source": [
    "plt.hist(guess_times, range=(0, 1e-5), bins=70, label='Guess')\n",
    "plt.hist(close_times, range=(0, 1e-5), bins=70, label='Close')\n",
    "\n",
    "_ = plt.legend()"
   ]
  },
  {
   "cell_type": "markdown",
   "metadata": {},
   "source": [
    "We can compare the means of the two distributions."
   ]
  },
  {
   "cell_type": "code",
   "execution_count": 134,
   "metadata": {},
   "outputs": [
    {
     "name": "stdout",
     "output_type": "stream",
     "text": [
      "Guess mean: 1.6829976812005043e-06\n",
      "Close mean: 2.433998743072152e-06\n"
     ]
    }
   ],
   "source": [
    "print(f\"Guess mean: {np.mean(guess_times)}\")\n",
    "print(f\"Close mean: {np.mean(close_times)}\")"
   ]
  },
  {
   "cell_type": "markdown",
   "metadata": {},
   "source": [
    "At first glance, it seems like we could just use the difference of means to guess the next character. However, we can assume that this naive comparison method is probably not in use.\n",
    "\n",
    "## Built-In Timing\n",
    "\n",
    "Instead of using the very simple timing method, let's use Python's built-in equality operator. First we run the string comparison for the wrong password."
   ]
  },
  {
   "cell_type": "code",
   "execution_count": 151,
   "metadata": {},
   "outputs": [],
   "source": [
    "guess_times = []\n",
    "\n",
    "for i in range(100):\n",
    "    \n",
    "    start = timer()\n",
    "    unknown_password == guess_password\n",
    "    end = timer()\n",
    "    \n",
    "    guess_times += [end - start]"
   ]
  },
  {
   "cell_type": "markdown",
   "metadata": {},
   "source": [
    "Now for the close password."
   ]
  },
  {
   "cell_type": "code",
   "execution_count": 152,
   "metadata": {},
   "outputs": [],
   "source": [
    "close_times = []\n",
    "\n",
    "for i in range(100):\n",
    "    \n",
    "    start = timer()\n",
    "    unknown_password == close_password\n",
    "    end = timer()\n",
    "    \n",
    "    close_times += [end - start]"
   ]
  },
  {
   "cell_type": "markdown",
   "metadata": {},
   "source": [
    "And plot the results."
   ]
  },
  {
   "cell_type": "code",
   "execution_count": 153,
   "metadata": {},
   "outputs": [
    {
     "data": {
      "image/png": "[encoded data removed]",
      "text/plain": [
       "<Figure size 432x288 with 1 Axes>"
      ]
     },
     "metadata": {
      "needs_background": "light"
     },
     "output_type": "display_data"
    }
   ],
   "source": [
    "plt.hist(guess_times, range=(0, 5e-6), bins=70, label='Guess')\n",
    "plt.hist(close_times, range=(0, 5e-6), bins=70, label='Close')\n",
    "\n",
    "_ = plt.legend()"
   ]
  },
  {
   "cell_type": "markdown",
   "metadata": {},
   "source": [
    "We can again compare the means of the two distributions."
   ]
  },
  {
   "cell_type": "code",
   "execution_count": 154,
   "metadata": {},
   "outputs": [
    {
     "name": "stdout",
     "output_type": "stream",
     "text": [
      "Guess mean: 8.1100151874125e-07\n",
      "Close mean: 7.169996388256549e-07\n"
     ]
    }
   ],
   "source": [
    "print(f\"Guess mean: {np.mean(guess_times)}\")\n",
    "print(f\"Close mean: {np.mean(close_times)}\")"
   ]
  },
  {
   "cell_type": "markdown",
   "metadata": {},
   "source": [
    "Now it seems like the difference is much more difficult to notice. In fact, the closer guess takes less time to compute, on average, sometimes! We need a better model to determine the difference between the two passwords."
   ]
  }
 ],
 "metadata": {
  "kernelspec": {
   "display_name": "Python 3",
   "language": "python",
   "name": "python3"
  },
  "language_info": {
   "codemirror_mode": {
    "name": "ipython",
    "version": 3
   },
   "file_extension": ".py",
   "mimetype": "text/x-python",
   "name": "python",
   "nbconvert_exporter": "python",
   "pygments_lexer": "ipython3",
   "version": "3.6.7"
  }
 },
 "nbformat": 4,
 "nbformat_minor": 2
}
