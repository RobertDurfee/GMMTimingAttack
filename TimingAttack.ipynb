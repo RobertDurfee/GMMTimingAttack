{
 "cells": [
  {
   "cell_type": "code",
   "execution_count": 128,
   "metadata": {},
   "outputs": [],
   "source": [
    "import matplotlib.pyplot as plt\n",
    "from time import sleep, process_time\n",
    "import random\n",
    "import string\n",
    "import numpy as np"
   ]
  },
  {
   "cell_type": "code",
   "execution_count": 181,
   "metadata": {},
   "outputs": [],
   "source": [
    "def simple_string_compare(a, b):\n",
    "    \n",
    "    i = 0\n",
    "    \n",
    "    while i < len(a) and i < len(b):\n",
    "        \n",
    "        if a[i] != b[i]:\n",
    "            return\n",
    "        \n",
    "        i += 1"
   ]
  },
  {
   "cell_type": "code",
   "execution_count": 184,
   "metadata": {},
   "outputs": [],
   "source": [
    "allowed_characters = string.ascii_uppercase + string.ascii_lowercase + string.digits"
   ]
  },
  {
   "cell_type": "code",
   "execution_count": 185,
   "metadata": {},
   "outputs": [],
   "source": [
    "def random_string(length):    \n",
    "    return ''.join(random.choices(allowed_characters, k=length))"
   ]
  },
  {
   "cell_type": "markdown",
   "metadata": {},
   "source": [
    "## Simple Timing\n",
    "\n",
    "First we run the string comparison for first guesses with at least 12 of 24 characters correct."
   ]
  },
  {
   "cell_type": "code",
   "execution_count": 183,
   "metadata": {},
   "outputs": [],
   "source": [
    "unknown_password = random_string(24)"
   ]
  },
  {
   "cell_type": "code",
   "execution_count": 199,
   "metadata": {},
   "outputs": [],
   "source": [
    "delta_ks = []\n",
    "\n",
    "for _ in range(1000):\n",
    "    \n",
    "    guess_password_km1 = unknown_password[:12] + random_string(12)\n",
    "    \n",
    "    start = process_time()\n",
    "    simple_string_compare(unknown_password, guess_password_km1)\n",
    "    end = process_time()\n",
    "    \n",
    "    t_km1 = end - start\n",
    "    \n",
    "    for next_character in allowed_characters:\n",
    "                \n",
    "        guess_password_k = guess_password_km1[:12] + next_character + random_string(11)\n",
    "                \n",
    "        start = process_time()\n",
    "        simple_string_compare(unknown_password, guess_password_k)\n",
    "        end = process_time()\n",
    "        \n",
    "        t_k = end - start\n",
    "                \n",
    "        delta_ks += [(t_k - t_km1) * 1000000]"
   ]
  },
  {
   "cell_type": "code",
   "execution_count": 200,
   "metadata": {},
   "outputs": [
    {
     "data": {
      "image/png": "[encoded data removed]",
      "text/plain": [
       "<Figure size 432x288 with 1 Axes>"
      ]
     },
     "metadata": {
      "needs_background": "light"
     },
     "output_type": "display_data"
    }
   ],
   "source": [
    "_ = plt.hist(delta_ks, bins=40)"
   ]
  },
  {
   "cell_type": "markdown",
   "metadata": {},
   "source": [
    "Now we run the string comparison for guesses with at least 13 of 24 characters correct."
   ]
  },
  {
   "cell_type": "code",
   "execution_count": 167,
   "metadata": {},
   "outputs": [],
   "source": [
    "second_guess_times = []\n",
    "\n",
    "for _ in range(1000000):\n",
    "    \n",
    "    guess_password = generate_guess(unknown_password, 24, 13)\n",
    "    \n",
    "    start = process_time()\n",
    "    simple_string_compare(unknown_password, guess_password)\n",
    "    end = process_time()\n",
    "    \n",
    "    second_guess_times += [end - start]"
   ]
  },
  {
   "cell_type": "markdown",
   "metadata": {},
   "source": [
    "And plot the results."
   ]
  },
  {
   "cell_type": "code",
   "execution_count": 178,
   "metadata": {},
   "outputs": [
    {
     "data": {
      "image/png": "[encoded data removed]",
      "text/plain": [
       "<Figure size 432x288 with 1 Axes>"
      ]
     },
     "metadata": {
      "needs_background": "light"
     },
     "output_type": "display_data"
    }
   ],
   "source": [
    "_ = plt.hist(first_guess_times, range=(-0.00002, 0.00002), bins=40)"
   ]
  },
  {
   "cell_type": "code",
   "execution_count": 179,
   "metadata": {},
   "outputs": [
    {
     "data": {
      "image/png": "[encoded data removed]",
      "text/plain": [
       "<Figure size 432x288 with 1 Axes>"
      ]
     },
     "metadata": {
      "needs_background": "light"
     },
     "output_type": "display_data"
    }
   ],
   "source": [
    "_ = plt.hist(second_guess_times, range=(-0.00002, 0.00002), bins=40)"
   ]
  },
  {
   "cell_type": "markdown",
   "metadata": {},
   "source": [
    "We can compare the means of the two distributions."
   ]
  },
  {
   "cell_type": "code",
   "execution_count": 180,
   "metadata": {},
   "outputs": [
    {
     "data": {
      "image/png": "[encoded data removed]",
      "text/plain": [
       "<Figure size 432x288 with 1 Axes>"
      ]
     },
     "metadata": {
      "needs_background": "light"
     },
     "output_type": "display_data"
    }
   ],
   "source": [
    "_ = plt.hist([first - second for first, second in zip(first_guess_times, second_guess_times)], range=(-0.00002, 0.00002), bins=40)"
   ]
  },
  {
   "cell_type": "markdown",
   "metadata": {},
   "source": [
    "At first glance, it seems like we could just use the difference of means to guess the next character. However, we can assume that this naive comparison method is probably not in use.\n",
    "\n",
    "## Built-In Timing\n",
    "\n",
    "Instead of using the very simple timing method, let's use Python's built-in equality operator. First we run the string comparison for the wrong password."
   ]
  },
  {
   "cell_type": "code",
   "execution_count": 151,
   "metadata": {},
   "outputs": [],
   "source": [
    "guess_times = []\n",
    "\n",
    "for i in range(100):\n",
    "    \n",
    "    start = timer()\n",
    "    unknown_password == guess_password\n",
    "    end = timer()\n",
    "    \n",
    "    guess_times += [end - start]"
   ]
  },
  {
   "cell_type": "markdown",
   "metadata": {},
   "source": [
    "Now for the close password."
   ]
  },
  {
   "cell_type": "code",
   "execution_count": 152,
   "metadata": {},
   "outputs": [],
   "source": [
    "close_times = []\n",
    "\n",
    "for i in range(100):\n",
    "    \n",
    "    start = timer()\n",
    "    unknown_password == close_password\n",
    "    end = timer()\n",
    "    \n",
    "    close_times += [end - start]"
   ]
  },
  {
   "cell_type": "markdown",
   "metadata": {},
   "source": [
    "And plot the results."
   ]
  },
  {
   "cell_type": "code",
   "execution_count": 153,
   "metadata": {},
   "outputs": [
    {
     "data": {
      "image/png": "[encoded data removed]",
      "text/plain": [
       "<Figure size 432x288 with 1 Axes>"
      ]
     },
     "metadata": {
      "needs_background": "light"
     },
     "output_type": "display_data"
    }
   ],
   "source": [
    "plt.hist(guess_times, range=(0, 5e-6), bins=70, label='Guess')\n",
    "plt.hist(close_times, range=(0, 5e-6), bins=70, label='Close')\n",
    "\n",
    "_ = plt.legend()"
   ]
  },
  {
   "cell_type": "markdown",
   "metadata": {},
   "source": [
    "We can again compare the means of the two distributions."
   ]
  },
  {
   "cell_type": "code",
   "execution_count": 154,
   "metadata": {},
   "outputs": [
    {
     "name": "stdout",
     "output_type": "stream",
     "text": [
      "Guess mean: 8.1100151874125e-07\n",
      "Close mean: 7.169996388256549e-07\n"
     ]
    }
   ],
   "source": [
    "print(f\"Guess mean: {np.mean(guess_times)}\")\n",
    "print(f\"Close mean: {np.mean(close_times)}\")"
   ]
  },
  {
   "cell_type": "markdown",
   "metadata": {},
   "source": [
    "Now it seems like the difference is much more difficult to notice. In fact, the closer guess takes less time to compute, on average, sometimes! We need a better model to determine the difference between the two passwords."
   ]
  }
 ],
 "metadata": {
  "kernelspec": {
   "display_name": "Python 3",
   "language": "python",
   "name": "python3"
  },
  "language_info": {
   "codemirror_mode": {
    "name": "ipython",
    "version": 3
   },
   "file_extension": ".py",
   "mimetype": "text/x-python",
   "name": "python",
   "nbconvert_exporter": "python",
   "pygments_lexer": "ipython3",
   "version": "3.6.7"
  }
 },
 "nbformat": 4,
 "nbformat_minor": 2
}
