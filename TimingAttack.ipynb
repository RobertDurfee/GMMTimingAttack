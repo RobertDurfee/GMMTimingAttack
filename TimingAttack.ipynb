{
 "cells": [
  {
   "cell_type": "code",
   "execution_count": 184,
   "metadata": {},
   "outputs": [],
   "source": [
    "import matplotlib.pyplot as plt\n",
    "from timeit import default_timer as timer\n",
    "from time import sleep, process_time\n",
    "import random\n",
    "import string\n",
    "import numpy as np\n",
    "from sklearn.mixture import GaussianMixture"
   ]
  },
  {
   "cell_type": "code",
   "execution_count": 275,
   "metadata": {},
   "outputs": [],
   "source": [
    "def simple_string_compare(a, b):\n",
    "    \n",
    "    i = 0\n",
    "    \n",
    "    while i < len(a) and i < len(b):\n",
    "        \n",
    "        if a[i] != b[i]:\n",
    "            return\n",
    "        \n",
    "        sleep(0.005)\n",
    "        \n",
    "        i += 1"
   ]
  },
  {
   "cell_type": "code",
   "execution_count": 71,
   "metadata": {},
   "outputs": [],
   "source": [
    "allowed_characters = string.ascii_uppercase + string.ascii_lowercase + string.digits"
   ]
  },
  {
   "cell_type": "code",
   "execution_count": 72,
   "metadata": {},
   "outputs": [],
   "source": [
    "def random_string(length):    \n",
    "    return ''.join(random.choices(allowed_characters, k=length))"
   ]
  },
  {
   "cell_type": "code",
   "execution_count": 73,
   "metadata": {},
   "outputs": [],
   "source": [
    "unknown_password = random_string(24)"
   ]
  },
  {
   "cell_type": "code",
   "execution_count": 151,
   "metadata": {},
   "outputs": [],
   "source": [
    "first_timings = []\n",
    "\n",
    "for _ in range(500):\n",
    "    \n",
    "    guess_password = unknown_password[:12] + random_string(12)\n",
    "    while guess_password[12] == unknown_password[12]:\n",
    "        guess_password = unknown_password[:12] + random_string(12)\n",
    "    \n",
    "    start = timer()\n",
    "    simple_string_compare(unknown_password, guess_password)\n",
    "    end = timer()\n",
    "    \n",
    "    first_timings += [(end - start) * 1000000]"
   ]
  },
  {
   "cell_type": "code",
   "execution_count": 163,
   "metadata": {},
   "outputs": [
    {
     "data": {
      "image/png": "[encoded data removed]",
      "text/plain": [
       "<Figure size 432x288 with 1 Axes>"
      ]
     },
     "metadata": {
      "needs_background": "light"
     },
     "output_type": "display_data"
    }
   ],
   "source": [
    "_ = plt.hist(first_timings, range=(6000, 16000), bins=25)"
   ]
  },
  {
   "cell_type": "code",
   "execution_count": 153,
   "metadata": {},
   "outputs": [],
   "source": [
    "second_timings = []\n",
    "\n",
    "for _ in range(500):\n",
    "    \n",
    "    guess_password = unknown_password[:13] + random_string(11)\n",
    "    while guess_password[13] == unknown_password[13]:\n",
    "        guess_password = unknown_password[:13] + random_string(11)\n",
    "    \n",
    "    start = timer()\n",
    "    simple_string_compare(unknown_password, guess_password)\n",
    "    end = timer()\n",
    "    \n",
    "    second_timings += [(end - start) * 1000000]"
   ]
  },
  {
   "cell_type": "code",
   "execution_count": 162,
   "metadata": {},
   "outputs": [
    {
     "data": {
      "image/png": "[encoded data removed]",
      "text/plain": [
       "<Figure size 432x288 with 1 Axes>"
      ]
     },
     "metadata": {
      "needs_background": "light"
     },
     "output_type": "display_data"
    }
   ],
   "source": [
    "_ = plt.hist(second_timings, range=(6000, 16000), bins=25)"
   ]
  },
  {
   "cell_type": "code",
   "execution_count": 161,
   "metadata": {},
   "outputs": [
    {
     "data": {
      "image/png": "[encoded data removed]",
      "text/plain": [
       "<Figure size 432x288 with 1 Axes>"
      ]
     },
     "metadata": {
      "needs_background": "light"
     },
     "output_type": "display_data"
    }
   ],
   "source": [
    "_ = plt.hist([(second - first) for first, second in zip(first_timings, second_timings)], range=(-8000, 8000), bins=25)"
   ]
  },
  {
   "cell_type": "code",
   "execution_count": 156,
   "metadata": {},
   "outputs": [
    {
     "data": {
      "text/plain": [
       "2398.712997091934"
      ]
     },
     "execution_count": 156,
     "metadata": {},
     "output_type": "execute_result"
    }
   ],
   "source": [
    "np.mean([(second - first) for first, second in zip(first_timings, second_timings)])"
   ]
  },
  {
   "cell_type": "code",
   "execution_count": 302,
   "metadata": {},
   "outputs": [],
   "source": [
    "deltas = []\n",
    "chars = []\n",
    "\n",
    "for _ in range(200):\n",
    "    \n",
    "    guess_password_km1 = unknown_password[:12] + random_string(12)\n",
    "    #while guess_password_km1[12] == unknown_password[12]:\n",
    "    #    guess_password_km1 = unknown_password[:12] + random_string(12)\n",
    "            \n",
    "    start = timer()\n",
    "    simple_string_compare(unknown_password, guess_password_km1)\n",
    "    end = timer()\n",
    "\n",
    "    t_km1 = (end - start) * 1000000\n",
    "\n",
    "    guess_password_k = unknown_password[:12] + random_string(1) + guess_password_km1[13:]\n",
    "\n",
    "    start = timer()\n",
    "    simple_string_compare(unknown_password, guess_password_k)\n",
    "    end = timer()\n",
    "\n",
    "    t_k = (end - start) * 1000000\n",
    "\n",
    "    deltas += [t_k - t_km1]\n",
    "    chars += [guess_password_k[12]]"
   ]
  },
  {
   "cell_type": "code",
   "execution_count": 303,
   "metadata": {},
   "outputs": [
    {
     "data": {
      "image/png": "[encoded data removed]",
      "text/plain": [
       "<Figure size 432x288 with 1 Axes>"
      ]
     },
     "metadata": {
      "needs_background": "light"
     },
     "output_type": "display_data"
    }
   ],
   "source": [
    "_ = plt.hist(deltas, bins=50, alpha=0.5)"
   ]
  },
  {
   "cell_type": "code",
   "execution_count": 304,
   "metadata": {},
   "outputs": [],
   "source": [
    "gmm = GaussianMixture(n_components=2, means_init=np.array([[0],[0]]), weights_init=(0.50, 0.50))"
   ]
  },
  {
   "cell_type": "code",
   "execution_count": 305,
   "metadata": {},
   "outputs": [
    {
     "data": {
      "text/plain": [
       "GaussianMixture(covariance_type='full', init_params='kmeans', max_iter=100,\n",
       "                means_init=array([[0.],\n",
       "       [0.]]), n_components=2, n_init=1,\n",
       "                precisions_init=None, random_state=None, reg_covar=1e-06,\n",
       "                tol=0.001, verbose=0, verbose_interval=10, warm_start=False,\n",
       "                weights_init=array([0.5, 0.5]))"
      ]
     },
     "execution_count": 305,
     "metadata": {},
     "output_type": "execute_result"
    }
   ],
   "source": [
    "gmm.fit(np.array(deltas).reshape(-1, 1))"
   ]
  },
  {
   "cell_type": "code",
   "execution_count": 306,
   "metadata": {},
   "outputs": [
    {
     "data": {
      "text/plain": [
       "array([[ 667.00935873],\n",
       "       [-306.00975043]])"
      ]
     },
     "execution_count": 306,
     "metadata": {},
     "output_type": "execute_result"
    }
   ],
   "source": [
    "gmm.means_"
   ]
  },
  {
   "cell_type": "code",
   "execution_count": 307,
   "metadata": {},
   "outputs": [
    {
     "data": {
      "image/png": "[encoded data removed]",
      "text/plain": [
       "<Figure size 432x288 with 1 Axes>"
      ]
     },
     "metadata": {
      "needs_background": "light"
     },
     "output_type": "display_data"
    }
   ],
   "source": [
    "_ = plt.hist(gmm.predict_proba(np.array(deltas).reshape(-1, 1))[:,0])"
   ]
  },
  {
   "cell_type": "code",
   "execution_count": 308,
   "metadata": {},
   "outputs": [],
   "source": [
    "probs = gmm.predict_proba(np.array(deltas[100:]).reshape(-1, 1))[:,0]"
   ]
  },
  {
   "cell_type": "code",
   "execution_count": 312,
   "metadata": {},
   "outputs": [
    {
     "data": {
      "text/plain": [
       "array([1.        , 0.99999996, 0.99999955, 0.99999027, 0.99995329,\n",
       "       0.99992619, 0.99987889, 0.99987841, 0.99986929, 0.99954101,\n",
       "       0.99894845, 0.99718964, 0.99531663, 0.98890025, 0.98784273,\n",
       "       0.98542095, 0.97769653, 0.9741234 , 0.96637782, 0.96312262,\n",
       "       0.92081241, 0.92029696, 0.87984066, 0.85636929, 0.82938613,\n",
       "       0.80410818, 0.7811472 , 0.67989685, 0.66816272, 0.61046752,\n",
       "       0.58170628, 0.54846661, 0.54824282, 0.5005491 , 0.49339058,\n",
       "       0.48298589, 0.46906559, 0.44379361, 0.44138584, 0.42925927,\n",
       "       0.41894597, 0.41841039, 0.38908956, 0.38700413, 0.38166377,\n",
       "       0.36665929, 0.36650913, 0.36596935, 0.36349333, 0.34689052,\n",
       "       0.34304413, 0.31932286, 0.31284075, 0.30471144, 0.29733444,\n",
       "       0.29731409, 0.29085401, 0.28912437, 0.27584337, 0.27156148,\n",
       "       0.26556351, 0.26397484, 0.26168663, 0.25290468, 0.25034172,\n",
       "       0.24871108, 0.24857249, 0.24508149, 0.24275547, 0.23666329,\n",
       "       0.2364352 , 0.23500632, 0.23319079, 0.23263801, 0.23199992,\n",
       "       0.23071943, 0.23070517, 0.22860924, 0.22802461, 0.22753755,\n",
       "       0.22740428, 0.22726058, 0.22675923, 0.22561465, 0.22508257,\n",
       "       0.22497472, 0.22339607, 0.22337396, 0.22330755, 0.22278758,\n",
       "       0.22147494, 0.22118374, 0.22094209, 0.21956211, 0.21946119,\n",
       "       0.21906126, 0.21905253, 0.21897055, 0.21860314, 0.21852036])"
      ]
     },
     "execution_count": 312,
     "metadata": {},
     "output_type": "execute_result"
    }
   ],
   "source": [
    "probs[np.argsort(probs)[::-1]]"
   ]
  },
  {
   "cell_type": "code",
   "execution_count": 313,
   "metadata": {},
   "outputs": [
    {
     "data": {
      "text/plain": [
       "array(['s', '7', 't', 'F', 'j', 'z', '1', 'b', 'e', 'C', 'r', '3', 'H',\n",
       "       'y', 'R', '1', 'w', 'd', 'f', '7', 'D', 'H', 'c', '1', 'b', 'J',\n",
       "       'V', 'y', 'B', 'J', 'F', 'L', 'G', 'H', 'X', 'c', 'B', 'X', 'Z',\n",
       "       '8', 'v', '5', 'q', 'S', 'p', '8', 'u', 'K', '6', 'z', 'D', 'b',\n",
       "       'P', '2', 'F', 'v', 'g', 'e', 'V', 'k', 'e', 'z', 'C', '6', 'W',\n",
       "       'W', 'h', '1', 'l', 'b', 'A', 'l', 'm', 'N', 'Y', 'Z', 'o', 'G',\n",
       "       'K', 's', 'N', '9', '3', '7', '7', 'G', 'U', 'J', 'X', 'L', '0',\n",
       "       'F', 'i', 'O', 'N', '6', 'Y', 'k', '5', 'd'], dtype='<U1')"
      ]
     },
     "execution_count": 313,
     "metadata": {},
     "output_type": "execute_result"
    }
   ],
   "source": [
    "np.array(chars)[np.argsort(probs)[::-1]]"
   ]
  },
  {
   "cell_type": "code",
   "execution_count": 314,
   "metadata": {},
   "outputs": [
    {
     "data": {
      "text/plain": [
       "'X'"
      ]
     },
     "execution_count": 314,
     "metadata": {},
     "output_type": "execute_result"
    }
   ],
   "source": [
    "unknown_password[12]"
   ]
  },
  {
   "cell_type": "code",
   "execution_count": null,
   "metadata": {},
   "outputs": [],
   "source": []
  }
 ],
 "metadata": {
  "kernelspec": {
   "display_name": "Python 3",
   "language": "python",
   "name": "python3"
  },
  "language_info": {
   "codemirror_mode": {
    "name": "ipython",
    "version": 3
   },
   "file_extension": ".py",
   "mimetype": "text/x-python",
   "name": "python",
   "nbconvert_exporter": "python",
   "pygments_lexer": "ipython3",
   "version": "3.6.7"
  }
 },
 "nbformat": 4,
 "nbformat_minor": 2
}
