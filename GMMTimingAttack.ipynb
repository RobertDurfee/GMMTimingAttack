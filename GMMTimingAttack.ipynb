{
 "cells": [
  {
   "cell_type": "code",
   "execution_count": 67,
   "metadata": {},
   "outputs": [],
   "source": [
    "import string\n",
    "import random\n",
    "from timeit import default_timer as timer\n",
    "from time import sleep, process_time\n",
    "from matplotlib import pyplot as plt\n",
    "import numpy as np\n",
    "from sklearn.mixture import BayesianGaussianMixture\n",
    "import pandas as pd\n",
    "from scipy.stats import norm"
   ]
  },
  {
   "cell_type": "code",
   "execution_count": 2,
   "metadata": {},
   "outputs": [],
   "source": [
    "def string_compare(a, b):\n",
    "    \n",
    "    i = 0\n",
    "    \n",
    "    while i < len(a) and i < len(b):\n",
    "        \n",
    "        if a[i] != b[i]:\n",
    "            return\n",
    "        \n",
    "        sleep(0.005)\n",
    "        \n",
    "        i += 1"
   ]
  },
  {
   "cell_type": "code",
   "execution_count": 3,
   "metadata": {},
   "outputs": [],
   "source": [
    "alphabet = string.ascii_uppercase + string.ascii_lowercase + string.digits"
   ]
  },
  {
   "cell_type": "code",
   "execution_count": 4,
   "metadata": {},
   "outputs": [],
   "source": [
    "def random_string(length):    \n",
    "    return ''.join(random.choices(alphabet, k=length))"
   ]
  },
  {
   "cell_type": "code",
   "execution_count": 5,
   "metadata": {},
   "outputs": [
    {
     "name": "stdout",
     "output_type": "stream",
     "text": [
      "Unknown password: wqVd1h2C2GNrMrmBVjJIvUyx\n"
     ]
    }
   ],
   "source": [
    "unknown_password = random_string(24)\n",
    "print(f\"Unknown password: {unknown_password}\")"
   ]
  },
  {
   "cell_type": "code",
   "execution_count": 6,
   "metadata": {},
   "outputs": [],
   "source": [
    "def query(a):\n",
    "    \n",
    "    start = process_time()\n",
    "    string_compare(unknown_password, a)\n",
    "    end = process_time()\n",
    "\n",
    "    return end - start"
   ]
  },
  {
   "cell_type": "code",
   "execution_count": 55,
   "metadata": {},
   "outputs": [],
   "source": [
    "n_queries = 500\n",
    "deltas = []\n",
    "    \n",
    "for character in alphabet:\n",
    "\n",
    "    for _ in range(n_queries):\n",
    "    \n",
    "        guess_password_km1 = ('!' * 24)\n",
    "        t_km1 = query(guess_password_km1)\n",
    "        \n",
    "        guess_password_k = character + ('!' * 23)        \n",
    "        t_k = query(guess_password_k)\n",
    "        \n",
    "        deltas += [t_k - t_km1]        "
   ]
  },
  {
   "cell_type": "code",
   "execution_count": 56,
   "metadata": {},
   "outputs": [],
   "source": [
    "averages = []\n",
    "\n",
    "for i in range(len(alphabet)):\n",
    "    \n",
    "    averages += [np.mean(deltas[i * n_queries : (i + 1) * n_queries])]"
   ]
  },
  {
   "cell_type": "code",
   "execution_count": 57,
   "metadata": {},
   "outputs": [
    {
     "data": {
      "image/png": "[encoded data removed]",
      "text/plain": [
       "<Figure size 432x288 with 1 Axes>"
      ]
     },
     "metadata": {
      "needs_background": "light"
     },
     "output_type": "display_data"
    }
   ],
   "source": [
    "_ = plt.bar(range(0, len(alphabet)), averages)"
   ]
  },
  {
   "cell_type": "code",
   "execution_count": 58,
   "metadata": {},
   "outputs": [
    {
     "data": {
      "image/png": "[encoded data removed]",
      "text/plain": [
       "<Figure size 432x288 with 1 Axes>"
      ]
     },
     "metadata": {
      "needs_background": "light"
     },
     "output_type": "display_data"
    }
   ],
   "source": [
    "_ = plt.hist(deltas[:48 * n_queries] + deltas[49 * n_queries:], range=(-0.0004, 0.0004), bins=50, alpha=0.5)\n",
    "_ = plt.hist(deltas[48 * n_queries:49 * n_queries], range=(-0.0004, 0.0004), bins=50, alpha=0.5)\n",
    "#_ = plt.hist(deltas, range=(-0.0004, 0.0004), bins=50, alpha=0.5)\n",
    "\n",
    "_ = plt.ylim(0, 100)"
   ]
  },
  {
   "cell_type": "code",
   "execution_count": 59,
   "metadata": {},
   "outputs": [
    {
     "data": {
      "text/plain": [
       "48"
      ]
     },
     "execution_count": 59,
     "metadata": {},
     "output_type": "execute_result"
    }
   ],
   "source": [
    "np.argmax(averages)"
   ]
  },
  {
   "cell_type": "code",
   "execution_count": 134,
   "metadata": {},
   "outputs": [],
   "source": [
    "gmm = BayesianGaussianMixture(n_components=2, tol=1e-5, max_iter=1000)"
   ]
  },
  {
   "cell_type": "code",
   "execution_count": 135,
   "metadata": {},
   "outputs": [
    {
     "data": {
      "text/plain": [
       "BayesianGaussianMixture(covariance_prior=None, covariance_type='full',\n",
       "                        degrees_of_freedom_prior=None, init_params='kmeans',\n",
       "                        max_iter=1000, mean_precision_prior=None,\n",
       "                        mean_prior=None, n_components=2, n_init=1,\n",
       "                        random_state=None, reg_covar=1e-06, tol=1e-05,\n",
       "                        verbose=0, verbose_interval=10, warm_start=False,\n",
       "                        weight_concentration_prior=None,\n",
       "                        weight_concentration_prior_type='dirichlet_process')"
      ]
     },
     "execution_count": 135,
     "metadata": {},
     "output_type": "execute_result"
    }
   ],
   "source": [
    "gmm.fit(np.array(deltas).reshape(-1, 1))"
   ]
  },
  {
   "cell_type": "code",
   "execution_count": 136,
   "metadata": {},
   "outputs": [
    {
     "data": {
      "text/plain": [
       "array([9.99956747e-01, 4.32530699e-05])"
      ]
     },
     "execution_count": 136,
     "metadata": {},
     "output_type": "execute_result"
    }
   ],
   "source": [
    "gmm.weights_"
   ]
  },
  {
   "cell_type": "code",
   "execution_count": 137,
   "metadata": {},
   "outputs": [
    {
     "data": {
      "text/plain": [
       "array([[2.29427425e-06],\n",
       "       [3.09093760e-03]])"
      ]
     },
     "execution_count": 137,
     "metadata": {},
     "output_type": "execute_result"
    }
   ],
   "source": [
    "gmm.means_"
   ]
  },
  {
   "cell_type": "code",
   "execution_count": 138,
   "metadata": {},
   "outputs": [
    {
     "data": {
      "text/plain": [
       "array([[[1.00175286e-06]],\n",
       "\n",
       "       [[1.08101987e-05]]])"
      ]
     },
     "execution_count": 138,
     "metadata": {},
     "output_type": "execute_result"
    }
   ],
   "source": [
    "gmm.covariances_"
   ]
  },
  {
   "cell_type": "code",
   "execution_count": 139,
   "metadata": {},
   "outputs": [
    {
     "data": {
      "image/png": "[encoded data removed]",
      "text/plain": [
       "<Figure size 432x288 with 1 Axes>"
      ]
     },
     "metadata": {
      "needs_background": "light"
     },
     "output_type": "display_data"
    }
   ],
   "source": [
    "xs = np.linspace(-0.0004, 0.01, 1000)\n",
    "\n",
    "_ = plt.hist(deltas[:48 * n_queries] + deltas[49 * n_queries:], range=(-0.0004, 0.0004), bins=50, alpha=0.5)\n",
    "_ = plt.hist(deltas[48 * n_queries:49 * n_queries], range=(-0.0004, 0.0004), bins=50, alpha=0.5)\n",
    "\n",
    "_ = plt.plot(xs, norm.pdf(xs, gmm.means_[0,0], gmm.covariances_[0,0]))\n",
    "_ = plt.plot(xs, norm.pdf(xs, gmm.means_[1,0], gmm.covariances_[1,0]))\n",
    "\n",
    "_ = plt.ylim(0, 100)\n",
    "_ = plt.xlim(-0.0004, 0.004)"
   ]
  },
  {
   "cell_type": "code",
   "execution_count": 116,
   "metadata": {},
   "outputs": [
    {
     "data": {
      "text/plain": [
       "array([9.99963615e-01, 3.63853145e-05])"
      ]
     },
     "execution_count": 116,
     "metadata": {},
     "output_type": "execute_result"
    }
   ],
   "source": [
    "gmm.weights_"
   ]
  },
  {
   "cell_type": "code",
   "execution_count": null,
   "metadata": {},
   "outputs": [],
   "source": []
  }
 ],
 "metadata": {
  "kernelspec": {
   "display_name": "Python 3",
   "language": "python",
   "name": "python3"
  },
  "language_info": {
   "codemirror_mode": {
    "name": "ipython",
    "version": 3
   },
   "file_extension": ".py",
   "mimetype": "text/x-python",
   "name": "python",
   "nbconvert_exporter": "python",
   "pygments_lexer": "ipython3",
   "version": "3.6.7"
  }
 },
 "nbformat": 4,
 "nbformat_minor": 2
}
