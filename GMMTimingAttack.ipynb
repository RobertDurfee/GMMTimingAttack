{
 "cells": [
  {
   "cell_type": "code",
   "execution_count": 181,
   "metadata": {},
   "outputs": [],
   "source": [
    "import string\n",
    "import random\n",
    "from timeit import default_timer as timer\n",
    "from time import sleep, process_time\n",
    "from matplotlib import pyplot as plt\n",
    "import numpy as np\n",
    "from sklearn.mixture import GaussianMixture\n",
    "import pandas as pd\n",
    "import scipy"
   ]
  },
  {
   "cell_type": "code",
   "execution_count": 256,
   "metadata": {},
   "outputs": [],
   "source": [
    "def string_compare(a, b):\n",
    "    \n",
    "    i = 0\n",
    "    \n",
    "    while i < len(a) and i < len(b):\n",
    "        \n",
    "        if a[i] != b[i]:\n",
    "            return\n",
    "        \n",
    "        #sleep(1e-15)\n",
    "        \n",
    "        i += 1"
   ]
  },
  {
   "cell_type": "code",
   "execution_count": 138,
   "metadata": {},
   "outputs": [],
   "source": [
    "alphabet = string.ascii_uppercase + string.ascii_lowercase + string.digits"
   ]
  },
  {
   "cell_type": "code",
   "execution_count": 27,
   "metadata": {},
   "outputs": [],
   "source": [
    "def random_string(length):    \n",
    "    return ''.join(random.choices(alphabet, k=length))"
   ]
  },
  {
   "cell_type": "code",
   "execution_count": 28,
   "metadata": {},
   "outputs": [
    {
     "name": "stdout",
     "output_type": "stream",
     "text": [
      "Unknown password: FBOjJogAJm1s6I7wtCtumyt3\n"
     ]
    }
   ],
   "source": [
    "unknown_password = random_string(24)\n",
    "print(f\"Unknown password: {unknown_password}\")"
   ]
  },
  {
   "cell_type": "code",
   "execution_count": 139,
   "metadata": {},
   "outputs": [],
   "source": [
    "def query(a):\n",
    "    \n",
    "    start = process_time()\n",
    "    string_compare(unknown_password, a)\n",
    "    end = process_time()\n",
    "\n",
    "    return end - start"
   ]
  },
  {
   "cell_type": "code",
   "execution_count": 289,
   "metadata": {},
   "outputs": [],
   "source": [
    "n_queries = 500\n",
    "deltas = []\n",
    "    \n",
    "for character in alphabet:\n",
    "\n",
    "    for _ in range(n_queries):\n",
    "    \n",
    "        guess_password_km1 = ('!' * 24)\n",
    "        t_km1 = query(guess_password_km1)\n",
    "        \n",
    "        guess_password_k = character + ('!' * 23)        \n",
    "        t_k = query(guess_password_k)\n",
    "        \n",
    "        deltas += [(t_k - t_km1) * 1e7]        "
   ]
  },
  {
   "cell_type": "code",
   "execution_count": 290,
   "metadata": {},
   "outputs": [],
   "source": [
    "averages = []\n",
    "\n",
    "for i in range(len(alphabet)):\n",
    "    \n",
    "    averages += [np.mean(deltas[i * n_queries : (i + 1) * n_queries])]"
   ]
  },
  {
   "cell_type": "code",
   "execution_count": 291,
   "metadata": {},
   "outputs": [
    {
     "data": {
      "image/png": "[encoded data removed]",
      "text/plain": [
       "<Figure size 432x288 with 1 Axes>"
      ]
     },
     "metadata": {
      "needs_background": "light"
     },
     "output_type": "display_data"
    }
   ],
   "source": [
    "_ = plt.bar(range(0, len(alphabet)), averages)"
   ]
  },
  {
   "cell_type": "code",
   "execution_count": 292,
   "metadata": {},
   "outputs": [],
   "source": [
    "r1 = np.median(deltas[:5 * n_queries] + deltas[6 * n_queries:]) - 1.5 * (np.quantile(deltas[:5 * n_queries] + deltas[6 * n_queries:], 0.9) - np.quantile(deltas[:5 * n_queries] + deltas[6 * n_queries:], 0.1)),\\\n",
    "np.median(deltas[:5 * n_queries] + deltas[6 * n_queries:]) + 1.5 * (np.quantile(deltas[:5 * n_queries] + deltas[6 * n_queries:], 0.9) - np.quantile(deltas[:5 * n_queries] + deltas[6 * n_queries:], 0.1))"
   ]
  },
  {
   "cell_type": "code",
   "execution_count": 293,
   "metadata": {},
   "outputs": [],
   "source": [
    "r2 = np.median(deltas[5 * n_queries:6 * n_queries]) - 1.5 * (np.quantile(deltas[5 * n_queries:6 * n_queries], 0.9) - np.quantile(deltas[5 * n_queries:6 * n_queries], 0.1)),\\\n",
    "np.median(deltas[5 * n_queries:6 * n_queries]) + 1.5 * (np.quantile(deltas[5 * n_queries:6 * n_queries], 0.9) - np.quantile(deltas[5 * n_queries:6 * n_queries], 0.1))"
   ]
  },
  {
   "cell_type": "code",
   "execution_count": 294,
   "metadata": {},
   "outputs": [
    {
     "data": {
      "image/png": "[encoded data removed]",
      "text/plain": [
       "<Figure size 432x288 with 1 Axes>"
      ]
     },
     "metadata": {
      "needs_background": "light"
     },
     "output_type": "display_data"
    }
   ],
   "source": [
    "_ = plt.hist(deltas[:5 * n_queries] + deltas[6 * n_queries:], range=(-5,5), bins=100, alpha=0.5, density=True)\n",
    "_ = plt.hist(deltas[5 * n_queries:6 * n_queries], range=(-5,5), bins=100, alpha=0.5, density=True)"
   ]
  },
  {
   "cell_type": "code",
   "execution_count": 295,
   "metadata": {},
   "outputs": [],
   "source": [
    "r = np.median(deltas) - 1.5 * (np.quantile(deltas, 0.9) - np.quantile(deltas, 0.1)),\\\n",
    "np.median(deltas) + 1.5 * (np.quantile(deltas, 0.9) - np.quantile(deltas, 0.1))"
   ]
  },
  {
   "cell_type": "code",
   "execution_count": 296,
   "metadata": {},
   "outputs": [],
   "source": [
    "gmm = GaussianMixture(n_components=2)"
   ]
  },
  {
   "cell_type": "code",
   "execution_count": 297,
   "metadata": {},
   "outputs": [
    {
     "data": {
      "text/plain": [
       "GaussianMixture(covariance_type='full', init_params='kmeans', max_iter=100,\n",
       "                means_init=None, n_components=2, n_init=1, precisions_init=None,\n",
       "                random_state=None, reg_covar=1e-06, tol=0.001, verbose=0,\n",
       "                verbose_interval=10, warm_start=False, weights_init=None)"
      ]
     },
     "execution_count": 297,
     "metadata": {},
     "output_type": "execute_result"
    }
   ],
   "source": [
    "gmm.fit(np.array(deltas).reshape(-1, 1))"
   ]
  },
  {
   "cell_type": "code",
   "execution_count": 300,
   "metadata": {},
   "outputs": [
    {
     "name": "stdout",
     "output_type": "stream",
     "text": [
      "[[1.42972354e-01]\n",
      " [2.98528800e+04]]\n",
      "[[[3.78502614e+03]]\n",
      "\n",
      " [[1.00000000e-06]]]\n",
      "True\n"
     ]
    }
   ],
   "source": [
    "print(gmm.means_)\n",
    "print(gmm.covariances_)\n",
    "print(gmm.converged_)"
   ]
  },
  {
   "cell_type": "code",
   "execution_count": 299,
   "metadata": {},
   "outputs": [
    {
     "data": {
      "image/png": "[encoded data removed]",
      "text/plain": [
       "<Figure size 432x288 with 1 Axes>"
      ]
     },
     "metadata": {
      "needs_background": "light"
     },
     "output_type": "display_data"
    }
   ],
   "source": [
    "_ = plt.hist(deltas[:5 * n_queries] + deltas[6 * n_queries:], range=(-5, 5), bins=100, alpha=0.5, density=True)\n",
    "_ = plt.hist(deltas[5 * n_queries:6 * n_queries], bins=100, range=(-5, 5), alpha=0.5, density=True)\n",
    "\n",
    "xx = np.linspace(-5, 5, 100000)\n",
    "\n",
    "_ = plt.plot(xx, scipy.stats.norm.pdf(xx, gmm.means_[0,0], gmm.covariances_[0,0]))\n",
    "_ = plt.plot(xx, scipy.stats.norm.pdf(xx, gmm.means_[1,0], gmm.covariances_[1,0]))"
   ]
  },
  {
   "cell_type": "code",
   "execution_count": null,
   "metadata": {},
   "outputs": [],
   "source": []
  }
 ],
 "metadata": {
  "kernelspec": {
   "display_name": "Python 3",
   "language": "python",
   "name": "python3"
  },
  "language_info": {
   "codemirror_mode": {
    "name": "ipython",
    "version": 3
   },
   "file_extension": ".py",
   "mimetype": "text/x-python",
   "name": "python",
   "nbconvert_exporter": "python",
   "pygments_lexer": "ipython3",
   "version": "3.6.7"
  }
 },
 "nbformat": 4,
 "nbformat_minor": 2
}
