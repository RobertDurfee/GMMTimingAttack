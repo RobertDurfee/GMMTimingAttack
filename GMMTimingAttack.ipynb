{
 "cells": [
  {
   "cell_type": "code",
   "execution_count": 1,
   "metadata": {},
   "outputs": [],
   "source": [
    "import string\n",
    "import random\n",
    "from timeit import default_timer as timer\n",
    "from time import sleep, process_time\n",
    "from matplotlib import pyplot as plt\n",
    "import numpy as np\n",
    "from sklearn.mixture import GaussianMixture\n",
    "import pandas as pd\n",
    "import scipy"
   ]
  },
  {
   "cell_type": "markdown",
   "metadata": {},
   "source": [
    "# Gaussian Mixture Model Timing Attack\n",
    "\n",
    "In this notebook, we attempt to reveal a password based on the time it takes to compare the given password to the correct password."
   ]
  },
  {
   "cell_type": "markdown",
   "metadata": {},
   "source": [
    "## Unknown Password\n",
    "\n",
    "Assume our password can be made up of a restricted set of characters."
   ]
  },
  {
   "cell_type": "code",
   "execution_count": 2,
   "metadata": {},
   "outputs": [
    {
     "name": "stdout",
     "output_type": "stream",
     "text": [
      "Alphabet: ABCDEFGHIJKLMNOPQRSTUVWXYZabcdefghijklmnopqrstuvwxyz0123456789\n"
     ]
    }
   ],
   "source": [
    "alphabet = string.ascii_uppercase + string.ascii_lowercase + string.digits\n",
    "print(f\"Alphabet: {alphabet}\")"
   ]
  },
  {
   "cell_type": "markdown",
   "metadata": {},
   "source": [
    "Using these characters, we create a random password which we will treat as unknown throughout the notebook."
   ]
  },
  {
   "cell_type": "code",
   "execution_count": 3,
   "metadata": {},
   "outputs": [
    {
     "name": "stdout",
     "output_type": "stream",
     "text": [
      "Unknown password: 2s4nhLvEeUlaDKuSU3dqFUUC\n"
     ]
    }
   ],
   "source": [
    "unknown_password = ''.join(random.choices(alphabet, k=24))\n",
    "print(f\"Unknown password: {unknown_password}\")"
   ]
  },
  {
   "cell_type": "markdown",
   "metadata": {},
   "source": [
    "## Query Information (Slow)\n",
    "\n",
    "Consider a use case where a server verifies if the password we provide is correct. It will compare the provided password to the correct password stored on the server. For simplicity, let the comparison work by scanning the characters and returning when the first character is different."
   ]
  },
  {
   "cell_type": "code",
   "execution_count": 4,
   "metadata": {},
   "outputs": [],
   "source": [
    "def password_compare(unknown_password, guess_password):\n",
    "    \n",
    "    i = 0\n",
    "    \n",
    "    while i < len(unknown_password) and i < len(guess_password):\n",
    "       \n",
    "        if unknown_password[i] != guess_password[i]:\n",
    "            return\n",
    "                \n",
    "        i += 1"
   ]
  },
  {
   "cell_type": "markdown",
   "metadata": {},
   "source": [
    "Now, the server will tell us if we are right or wrong, but that is not the information we are interested in. We want to know how long it took the server to make this determination. We create a query function that accomplishes this."
   ]
  },
  {
   "cell_type": "code",
   "execution_count": 5,
   "metadata": {},
   "outputs": [],
   "source": [
    "def password_query(guess_password):\n",
    "    \n",
    "    start = process_time()\n",
    "    password_compare(unknown_password, guess_password)\n",
    "    end = process_time()\n",
    "\n",
    "    return (end - start)"
   ]
  },
  {
   "cell_type": "markdown",
   "metadata": {},
   "source": [
    "## Exploration (Slow)\n",
    "\n",
    "Intuitively, we should expect a correct password to take longer to compare than an incorrect password as the correct password has a longer correct prefix than the incorrect password. \n",
    "\n",
    "We can test this intuition. Assume we have correctly determined the first 12 characters of the password. We can time how long it takes to compare. We can compare this to the time for a 13 character prefix as well (which should be slightly longer)."
   ]
  },
  {
   "cell_type": "code",
   "execution_count": 6,
   "metadata": {},
   "outputs": [],
   "source": [
    "t_km1s = []\n",
    "t_ks = []\n",
    "deltas = []\n",
    "\n",
    "for _ in range(100000):\n",
    "    \n",
    "    # Note: '!' is NOT in the alphabet! This is important!\n",
    "    guess_password_km1 = unknown_password[:12] + ('!' * 12)\n",
    "    t_km1s += [password_query(guess_password_km1) * 1e7]\n",
    "\n",
    "    guess_password_k = unknown_password[:13] + ('!' * 11)        \n",
    "    t_ks += [password_query(guess_password_k) * 1e7]\n",
    "\n",
    "    deltas += [(t_ks[-1] - t_km1s[-1])]"
   ]
  },
  {
   "cell_type": "markdown",
   "metadata": {},
   "source": [
    "There are going to be a lot of outliers in the timing data due to system interrupts, etc. First we need to restrict the range."
   ]
  },
  {
   "cell_type": "code",
   "execution_count": 57,
   "metadata": {},
   "outputs": [
    {
     "name": "stdout",
     "output_type": "stream",
     "text": [
      "Range: (-29.824999999261692, 151.64499998898685)\n"
     ]
    }
   ],
   "source": [
    "t_km1_range = np.median(t_km1s) - 1.5 * (np.quantile(t_km1s, 0.95) - np.quantile(t_km1s, 0.05)), \\\n",
    "              np.median(t_km1s) + 1.5 * (np.quantile(t_km1s, 0.95) - np.quantile(t_km1s, 0.05))\n",
    "t_k_range = np.median(t_ks) - 1.5 * (np.quantile(t_ks, 0.95) - np.quantile(t_ks, 0.05)), \\\n",
    "            np.median(t_ks) + 1.5 * (np.quantile(t_ks, 0.95) - np.quantile(t_ks, 0.05))\n",
    "delta_range = np.median(deltas) - 1.5 * (np.quantile(deltas, 0.95) - np.quantile(deltas, 0.05)), \\\n",
    "              np.median(deltas) + 1.5 * (np.quantile(deltas, 0.95) - np.quantile(deltas, 0.05))\n",
    "\n",
    "t_range = min(t_km1_range[0], t_k_range[0], delta_range[0]), \\\n",
    "          max(t_km1_range[1], t_k_range[1], delta_range[1])\n",
    "\n",
    "print(f\"Range: {t_range}\")"
   ]
  },
  {
   "cell_type": "markdown",
   "metadata": {},
   "source": [
    "Now we can plot and compare the timings."
   ]
  },
  {
   "cell_type": "code",
   "execution_count": 65,
   "metadata": {},
   "outputs": [
    {
     "data": {
      "image/png": "[encoded data removed]",
      "text/plain": [
       "<Figure size 432x288 with 1 Axes>"
      ]
     },
     "metadata": {
      "needs_background": "light"
     },
     "output_type": "display_data"
    }
   ],
   "source": [
    "_ = plt.hist(t_km1s, range=t_range, bins=100, density=True, label='t_km1')\n",
    "_ = plt.hist(t_ks, range=t_range, bins=100, density=True, label='t_k')\n",
    "_ = plt.hist(deltas, range=t_range, bins=100, density=True, label='delta')\n",
    "_ = plt.legend()"
   ]
  },
  {
   "cell_type": "markdown",
   "metadata": {},
   "source": [
    "It looks like we are validated in our reasoning! The 13-character prefix takes longer to validate than the 12-character prefix. The differences are approximately Gaussian centered above zero."
   ]
  },
  {
   "cell_type": "markdown",
   "metadata": {},
   "source": [
    "This assumed that we knew the 13th character. But we are trying to guess the next character! Let's see what happens when we scan through the characters."
   ]
  },
  {
   "cell_type": "code",
   "execution_count": 59,
   "metadata": {},
   "outputs": [],
   "source": [
    "n_queries = 500\n",
    "deltas = []\n",
    "\n",
    "for character in alphabet:\n",
    "    \n",
    "    for _ in range(n_queries):\n",
    "\n",
    "        # Note: '!' is NOT in the alphabet! This is important!\n",
    "        guess_password_km1 = unknown_password[:12] + ('!' * 12)\n",
    "        t_km1 = password_query(guess_password_km1) * 1e7\n",
    "\n",
    "        guess_password_k = unknown_password[:12] + character + ('!' * 11)        \n",
    "        t_k = password_query(guess_password_k) * 1e7\n",
    "\n",
    "        deltas += [(t_k - t_km1)]"
   ]
  },
  {
   "cell_type": "markdown",
   "metadata": {},
   "source": [
    "Once again, there are a lot of outliers. Let's restrict our focus."
   ]
  },
  {
   "cell_type": "code",
   "execution_count": 60,
   "metadata": {},
   "outputs": [
    {
     "name": "stdout",
     "output_type": "stream",
     "text": [
      "Range: (-14.777999997050951, 14.777999997050951)\n"
     ]
    }
   ],
   "source": [
    "delta_range = np.median(deltas) - 1.5 * (np.quantile(deltas, 0.95) - np.quantile(deltas, 0.05)), \\\n",
    "              np.median(deltas) + 1.5 * (np.quantile(deltas, 0.95) - np.quantile(deltas, 0.05))\n",
    "print(f\"Range: {delta_range}\")"
   ]
  },
  {
   "cell_type": "markdown",
   "metadata": {},
   "source": [
    "We can plot a histogram of the difference in times."
   ]
  },
  {
   "cell_type": "code",
   "execution_count": 66,
   "metadata": {},
   "outputs": [
    {
     "data": {
      "image/png": "[encoded data removed]",
      "text/plain": [
       "<Figure size 432x288 with 1 Axes>"
      ]
     },
     "metadata": {
      "needs_background": "light"
     },
     "output_type": "display_data"
    }
   ],
   "source": [
    "_ = plt.hist(deltas, range=delta_range, density=True, bins=100)"
   ]
  },
  {
   "cell_type": "markdown",
   "metadata": {},
   "source": [
    "It is kind of difficult to tell, but there should be a little bump to the right for the correct character. Let's cheat for a second and assume we know the next character so we can see this a little better."
   ]
  },
  {
   "cell_type": "code",
   "execution_count": 62,
   "metadata": {},
   "outputs": [
    {
     "name": "stdout",
     "output_type": "stream",
     "text": [
      "Next character index: 3\n"
     ]
    }
   ],
   "source": [
    "next_char_index = alphabet.find(unknown_password[12])\n",
    "print(f\"Next character index: {next_char_index}\")"
   ]
  },
  {
   "cell_type": "markdown",
   "metadata": {},
   "source": [
    "Now we can break up our timing deltas into correct and incorrect categories."
   ]
  },
  {
   "cell_type": "code",
   "execution_count": 63,
   "metadata": {},
   "outputs": [],
   "source": [
    "incorrect_deltas = deltas[:3 * n_queries] + deltas[(3 + 1) * n_queries:]\n",
    "correct_deltas = deltas[3 * n_queries:(3 + 1) * n_queries]"
   ]
  },
  {
   "cell_type": "markdown",
   "metadata": {},
   "source": [
    "Now we should be able to highlight the correct characters' deltas in the histogram. Note the histograms are normalized such that their area is equal to one."
   ]
  },
  {
   "cell_type": "code",
   "execution_count": 68,
   "metadata": {},
   "outputs": [
    {
     "data": {
      "image/png": "[encoded data removed]",
      "text/plain": [
       "<Figure size 432x288 with 1 Axes>"
      ]
     },
     "metadata": {
      "needs_background": "light"
     },
     "output_type": "display_data"
    }
   ],
   "source": [
    "_ = plt.hist(incorrect_deltas, range=delta_range, density=True, bins=100, label='Incorrect')\n",
    "_ = plt.hist(correct_deltas, range=delta_range, density=True, bins=100, label='Correct')\n",
    "_ = plt.legend()"
   ]
  },
  {
   "cell_type": "markdown",
   "metadata": {},
   "source": [
    "## Naive Approach (Slow)\n",
    "\n",
    "It appears like the difference in averages of the two distributions from before is large enough to observe. To be resistant to outliers, let's use the median of the different deltas for each character."
   ]
  },
  {
   "cell_type": "code",
   "execution_count": 69,
   "metadata": {},
   "outputs": [],
   "source": [
    "medians = []\n",
    "\n",
    "for i in range(len(alphabet)):\n",
    "    \n",
    "    medians += [np.median(deltas[i * n_queries : (i + 1) * n_queries])]"
   ]
  },
  {
   "cell_type": "markdown",
   "metadata": {},
   "source": [
    "We can plot the medians across all the characters."
   ]
  },
  {
   "cell_type": "code",
   "execution_count": 70,
   "metadata": {},
   "outputs": [
    {
     "data": {
      "image/png": "[encoded data removed]",
      "text/plain": [
       "<Figure size 432x288 with 1 Axes>"
      ]
     },
     "metadata": {
      "needs_background": "light"
     },
     "output_type": "display_data"
    }
   ],
   "source": [
    "_ = plt.bar(range(len(alphabet)), medians)"
   ]
  },
  {
   "cell_type": "markdown",
   "metadata": {},
   "source": [
    "We can take the character with the maximum of the medians to guess the next unknown character in the password."
   ]
  },
  {
   "cell_type": "code",
   "execution_count": 73,
   "metadata": {},
   "outputs": [
    {
     "name": "stdout",
     "output_type": "stream",
     "text": [
      "Next character guess: 3\n"
     ]
    }
   ],
   "source": [
    "print(f\"Next character guess: {np.argmax(medians)}\")"
   ]
  },
  {
   "cell_type": "markdown",
   "metadata": {},
   "source": [
    "This corresponds to the correct next character in the password!"
   ]
  },
  {
   "cell_type": "markdown",
   "metadata": {},
   "source": [
    "## Gaussian Mixture Model Approach (Slow)\n",
    "\n",
    "Now we can be a little more technical in our approach. First we clean our data to remove the outliers as above."
   ]
  },
  {
   "cell_type": "code",
   "execution_count": 74,
   "metadata": {},
   "outputs": [],
   "source": [
    "deltas_clean = list(filter(lambda delta: (delta > delta_range[0]) and (delta < delta_range[1]), deltas))"
   ]
  },
  {
   "cell_type": "markdown",
   "metadata": {},
   "source": [
    "Now we fit a 2-component Gaussian mixture to our data."
   ]
  },
  {
   "cell_type": "code",
   "execution_count": 86,
   "metadata": {},
   "outputs": [],
   "source": [
    "gmm = GaussianMixture(n_components=2)\n",
    "_ = gmm.fit(np.array(deltas_clean).reshape(-1, 1))"
   ]
  },
  {
   "cell_type": "markdown",
   "metadata": {},
   "source": [
    "We can take a look at the learned parameters to confirm everything makes sense."
   ]
  },
  {
   "cell_type": "code",
   "execution_count": 84,
   "metadata": {},
   "outputs": [
    {
     "name": "stdout",
     "output_type": "stream",
     "text": [
      "Means: -0.01277003045462859, 0.3793750195419583\n",
      "Variances: 0.14448377868525622, 13.845941993397654\n",
      "Weights: 0.7183095799244188, 0.2816904200755729\n"
     ]
    }
   ],
   "source": [
    "print(f\"Means: {gmm.means_[0, 0]}, {gmm.means_[1, 0]}\")\n",
    "print(f\"Variances: {gmm.covariances_[0, 0, 0]}, {gmm.covariances_[1, 0, 0]}\")\n",
    "print(f\"Weights: {gmm.weights_[0]}, {gmm.weights_[1]}\")"
   ]
  },
  {
   "cell_type": "markdown",
   "metadata": {},
   "source": [
    "We also plot the Gaussian PDFs to visualize the fit."
   ]
  },
  {
   "cell_type": "code",
   "execution_count": 85,
   "metadata": {},
   "outputs": [
    {
     "data": {
      "image/png": "[encoded data removed]",
      "text/plain": [
       "<Figure size 432x288 with 1 Axes>"
      ]
     },
     "metadata": {
      "needs_background": "light"
     },
     "output_type": "display_data"
    }
   ],
   "source": [
    "_ = plt.hist(deltas, range=delta_range, bins=100, density=True)\n",
    "\n",
    "xx = np.arange(delta_range[0], delta_range[1], 0.01)\n",
    "\n",
    "_ = plt.plot(xx, scipy.stats.norm.pdf(xx, gmm.means_[0,0], gmm.covariances_[0,0,0]))\n",
    "_ = plt.plot(xx, scipy.stats.norm.pdf(xx, gmm.means_[1,0], gmm.covariances_[1,0,0]))"
   ]
  },
  {
   "cell_type": "markdown",
   "metadata": {},
   "source": [
    "It looks like the fit is decent! However, it is hard to tell if the second Gaussian fits well because it has such a large variance. This is why we look at the numerical values above.\n",
    "\n",
    "We determine which Gaussian has lower weight. The Gaussian with lower weight will be the correct character distribution because it is always seen more infrequently."
   ]
  },
  {
   "cell_type": "code",
   "execution_count": 88,
   "metadata": {},
   "outputs": [
    {
     "name": "stdout",
     "output_type": "stream",
     "text": [
      "Correct distribution: 0\n"
     ]
    }
   ],
   "source": [
    "correct_distribution = np.argmin(gmm.weights_)\n",
    "print(f\"Correct distribution: {correct_distribution}\")"
   ]
  },
  {
   "cell_type": "markdown",
   "metadata": {},
   "source": [
    "We can now calculate the number of times we predict a character belongs to this distribution."
   ]
  },
  {
   "cell_type": "code",
   "execution_count": 99,
   "metadata": {},
   "outputs": [],
   "source": [
    "probs = []\n",
    "\n",
    "for i in range(len(alphabet)):\n",
    "    \n",
    "    if correct_distribution == 1:\n",
    "        probs += [np.sum(gmm.predict(np.array(deltas[i * n_queries : (i + 1) * n_queries]).reshape(-1, 1))) / n_queries]\n",
    "    else:\n",
    "        probs += [np.sum(1 - gmm.predict(np.array(deltas[i * n_queries : (i + 1) * n_queries]).reshape(-1, 1))) / n_queries]\n"
   ]
  },
  {
   "cell_type": "markdown",
   "metadata": {},
   "source": [
    "Now we can visualize the probabilities for each character being from the correct distribution."
   ]
  },
  {
   "cell_type": "code",
   "execution_count": 100,
   "metadata": {},
   "outputs": [
    {
     "data": {
      "image/png": "[encoded data removed]",
      "text/plain": [
       "<Figure size 432x288 with 1 Axes>"
      ]
     },
     "metadata": {
      "needs_background": "light"
     },
     "output_type": "display_data"
    }
   ],
   "source": [
    "_ = plt.bar(range(0, len(alphabet)), probs)"
   ]
  },
  {
   "cell_type": "markdown",
   "metadata": {},
   "source": [
    "We can take the character with the maximum of the probabilities to guess the next unknown character in the password."
   ]
  },
  {
   "cell_type": "code",
   "execution_count": 102,
   "metadata": {},
   "outputs": [
    {
     "name": "stdout",
     "output_type": "stream",
     "text": [
      "Next character guess: 3\n"
     ]
    }
   ],
   "source": [
    "print(f\"Next character guess: {np.argmax(probs)}\")"
   ]
  },
  {
   "cell_type": "markdown",
   "metadata": {},
   "source": [
    "This also corresponds to the correct next character in the password! But why should we go through this more sophisticated approach?"
   ]
  }
 ],
 "metadata": {
  "kernelspec": {
   "display_name": "Python 3",
   "language": "python",
   "name": "python3"
  },
  "language_info": {
   "codemirror_mode": {
    "name": "ipython",
    "version": 3
   },
   "file_extension": ".py",
   "mimetype": "text/x-python",
   "name": "python",
   "nbconvert_exporter": "python",
   "pygments_lexer": "ipython3",
   "version": "3.6.7"
  }
 },
 "nbformat": 4,
 "nbformat_minor": 2
}
