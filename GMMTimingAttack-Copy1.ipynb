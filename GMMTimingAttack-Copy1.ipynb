{
 "cells": [
  {
   "cell_type": "code",
   "execution_count": 1,
   "metadata": {},
   "outputs": [],
   "source": [
    "import string\n",
    "import random\n",
    "from timeit import default_timer as timer\n",
    "from time import sleep, process_time\n",
    "from matplotlib import pyplot as plt\n",
    "import numpy as np\n",
    "from sklearn.mixture import GaussianMixture\n",
    "import pandas as pd\n",
    "import scipy"
   ]
  },
  {
   "cell_type": "code",
   "execution_count": 2,
   "metadata": {},
   "outputs": [
    {
     "name": "stdout",
     "output_type": "stream",
     "text": [
      "Alphabet: ABCDEFGHIJKLMNOPQRSTUVWXYZabcdefghijklmnopqrstuvwxyz0123456789\n"
     ]
    }
   ],
   "source": [
    "alphabet = string.ascii_uppercase + string.ascii_lowercase + string.digits\n",
    "print(f\"Alphabet: {alphabet}\")"
   ]
  },
  {
   "cell_type": "code",
   "execution_count": 3,
   "metadata": {},
   "outputs": [
    {
     "name": "stdout",
     "output_type": "stream",
     "text": [
      "Unknown password: kHvi4e2cvaUnUQWlMZmi34jC\n"
     ]
    }
   ],
   "source": [
    "unknown_password = ''.join(random.choices(alphabet, k=24))\n",
    "print(f\"Unknown password: {unknown_password}\")"
   ]
  },
  {
   "cell_type": "code",
   "execution_count": 4,
   "metadata": {},
   "outputs": [],
   "source": [
    "def password_compare(unknown_password, guess_password):\n",
    "    \n",
    "    i = 0\n",
    "    \n",
    "    while i < len(unknown_password) and i < len(guess_password):\n",
    "       \n",
    "        if unknown_password[i] != guess_password[i]:\n",
    "            return\n",
    "                \n",
    "        i += 1"
   ]
  },
  {
   "cell_type": "code",
   "execution_count": 5,
   "metadata": {},
   "outputs": [],
   "source": [
    "def password_query(guess_password):\n",
    "    \n",
    "    start = process_time()\n",
    "    password_compare(unknown_password, guess_password)\n",
    "    end = process_time()\n",
    "\n",
    "    return (end - start)"
   ]
  },
  {
   "cell_type": "code",
   "execution_count": 6,
   "metadata": {},
   "outputs": [],
   "source": [
    "n_queries = 500\n",
    "deltas = []\n",
    "\n",
    "for character in alphabet:\n",
    "    \n",
    "    for _ in range(n_queries):\n",
    "\n",
    "        # Note: '!' is NOT in the alphabet! This is important!\n",
    "        guess_password_km1 = unknown_password[:12] + ('!' * 12)\n",
    "        t_km1 = password_query(guess_password_km1)\n",
    "\n",
    "        guess_password_k = unknown_password[:12] + character + ('!' * 11)        \n",
    "        t_k = password_query(guess_password_k)\n",
    "\n",
    "        deltas += [(t_k - t_km1)]"
   ]
  },
  {
   "cell_type": "code",
   "execution_count": 9,
   "metadata": {},
   "outputs": [
    {
     "name": "stdout",
     "output_type": "stream",
     "text": [
      "Range: (-9.320750002927969e-07, 9.220750012417501e-07)\n"
     ]
    }
   ],
   "source": [
    "delta_range = np.median(deltas) - 1.5 * (np.quantile(deltas, 0.95) - np.quantile(deltas, 0.05)), \\\n",
    "              np.median(deltas) + 1.5 * (np.quantile(deltas, 0.95) - np.quantile(deltas, 0.05))\n",
    "print(f\"Range: {delta_range}\")"
   ]
  },
  {
   "cell_type": "code",
   "execution_count": 10,
   "metadata": {},
   "outputs": [
    {
     "data": {
      "image/png": "[encoded data removed]",
      "text/plain": [
       "<Figure size 432x288 with 1 Axes>"
      ]
     },
     "metadata": {
      "needs_background": "light"
     },
     "output_type": "display_data"
    }
   ],
   "source": [
    "_ = plt.hist(deltas, range=delta_range, density=True, bins=100)"
   ]
  },
  {
   "cell_type": "code",
   "execution_count": 11,
   "metadata": {},
   "outputs": [
    {
     "name": "stdout",
     "output_type": "stream",
     "text": [
      "Next character index: 20\n"
     ]
    }
   ],
   "source": [
    "next_char_index = alphabet.find(unknown_password[12])\n",
    "print(f\"Next character index: {next_char_index}\")"
   ]
  },
  {
   "cell_type": "code",
   "execution_count": 12,
   "metadata": {},
   "outputs": [],
   "source": [
    "incorrect_deltas = deltas[:next_char_index * n_queries] + deltas[(next_char_index + 1) * n_queries:]\n",
    "correct_deltas = deltas[next_char_index * n_queries:(next_char_index + 1) * n_queries]"
   ]
  },
  {
   "cell_type": "code",
   "execution_count": 13,
   "metadata": {},
   "outputs": [
    {
     "data": {
      "image/png": "[encoded data removed]",
      "text/plain": [
       "<Figure size 432x288 with 1 Axes>"
      ]
     },
     "metadata": {
      "needs_background": "light"
     },
     "output_type": "display_data"
    }
   ],
   "source": [
    "_ = plt.hist(incorrect_deltas, range=delta_range, density=True, bins=100, label='Incorrect')\n",
    "_ = plt.hist(correct_deltas, range=delta_range, density=True, bins=100, label='Correct')\n",
    "_ = plt.legend()"
   ]
  },
  {
   "cell_type": "code",
   "execution_count": 14,
   "metadata": {},
   "outputs": [],
   "source": [
    "clean_deltas = list(filter(lambda delta: delta > delta_range[0] and delta < delta_range[1], deltas))"
   ]
  },
  {
   "cell_type": "code",
   "execution_count": 15,
   "metadata": {},
   "outputs": [
    {
     "data": {
      "image/png": "[encoded data removed]",
      "text/plain": [
       "<Figure size 432x288 with 1 Axes>"
      ]
     },
     "metadata": {
      "needs_background": "light"
     },
     "output_type": "display_data"
    }
   ],
   "source": [
    "_ = plt.hist(clean_deltas, density=True, bins=100)"
   ]
  },
  {
   "cell_type": "code",
   "execution_count": 17,
   "metadata": {},
   "outputs": [
    {
     "name": "stdout",
     "output_type": "stream",
     "text": [
      "Clean delta standard deviation: 1.3710466936383165e-07\n"
     ]
    }
   ],
   "source": [
    "clean_std = np.std(clean_deltas)\n",
    "print(f\"Clean delta standard deviation: {clean_std}\")"
   ]
  },
  {
   "cell_type": "code",
   "execution_count": 18,
   "metadata": {},
   "outputs": [],
   "source": [
    "std_clean_deltas = np.array(clean_deltas) / clean_std"
   ]
  },
  {
   "cell_type": "code",
   "execution_count": 19,
   "metadata": {},
   "outputs": [
    {
     "data": {
      "image/png": "[encoded data removed]",
      "text/plain": [
       "<Figure size 432x288 with 1 Axes>"
      ]
     },
     "metadata": {
      "needs_background": "light"
     },
     "output_type": "display_data"
    }
   ],
   "source": [
    "_ = plt.hist(std_clean_deltas, density=True, bins=100)"
   ]
  },
  {
   "cell_type": "code",
   "execution_count": 27,
   "metadata": {},
   "outputs": [],
   "source": [
    "clean_delta_range = delta_range[0] / clean_std, delta_range[1] / clean_std"
   ]
  },
  {
   "cell_type": "code",
   "execution_count": 20,
   "metadata": {},
   "outputs": [],
   "source": [
    "medians = []\n",
    "\n",
    "for i in range(len(alphabet)):\n",
    "    \n",
    "    medians += [np.median(deltas[i * n_queries : (i + 1) * n_queries])]"
   ]
  },
  {
   "cell_type": "code",
   "execution_count": 21,
   "metadata": {},
   "outputs": [
    {
     "data": {
      "image/png": "[encoded data removed]",
      "text/plain": [
       "<Figure size 432x288 with 1 Axes>"
      ]
     },
     "metadata": {
      "needs_background": "light"
     },
     "output_type": "display_data"
    }
   ],
   "source": [
    "_ = plt.bar(range(len(alphabet)), medians)"
   ]
  },
  {
   "cell_type": "code",
   "execution_count": 22,
   "metadata": {},
   "outputs": [
    {
     "name": "stdout",
     "output_type": "stream",
     "text": [
      "Next character guess: 20\n"
     ]
    }
   ],
   "source": [
    "print(f\"Next character guess: {np.argmax(medians)}\")"
   ]
  },
  {
   "cell_type": "code",
   "execution_count": 24,
   "metadata": {},
   "outputs": [],
   "source": [
    "gmm = GaussianMixture(n_components=2)\n",
    "_ = gmm.fit(np.array(std_clean_deltas).reshape(-1, 1))"
   ]
  },
  {
   "cell_type": "code",
   "execution_count": 25,
   "metadata": {},
   "outputs": [
    {
     "name": "stdout",
     "output_type": "stream",
     "text": [
      "Means: -0.1889866310947672, 3.627313282661675\n",
      "Variances: 0.6185513150746734, 0.9064657020942917\n",
      "Weights: 0.9736350803620951, 0.026364919637867485\n"
     ]
    }
   ],
   "source": [
    "print(f\"Means: {gmm.means_[0, 0]}, {gmm.means_[1, 0]}\")\n",
    "print(f\"Variances: {gmm.covariances_[0, 0, 0]}, {gmm.covariances_[1, 0, 0]}\")\n",
    "print(f\"Weights: {gmm.weights_[0]}, {gmm.weights_[1]}\")"
   ]
  },
  {
   "cell_type": "code",
   "execution_count": 28,
   "metadata": {},
   "outputs": [
    {
     "data": {
      "image/png": "[encoded data removed]",
      "text/plain": [
       "<Figure size 432x288 with 1 Axes>"
      ]
     },
     "metadata": {
      "needs_background": "light"
     },
     "output_type": "display_data"
    }
   ],
   "source": [
    "_ = plt.hist(std_clean_deltas, bins=100, density=True)\n",
    "\n",
    "xx = np.arange(clean_delta_range[0], clean_delta_range[1], 0.01)\n",
    "\n",
    "_ = plt.plot(xx, scipy.stats.norm.pdf(xx, gmm.means_[0,0], gmm.covariances_[0,0,0]))\n",
    "_ = plt.plot(xx, scipy.stats.norm.pdf(xx, gmm.means_[1,0], gmm.covariances_[1,0,0]))"
   ]
  },
  {
   "cell_type": "code",
   "execution_count": 29,
   "metadata": {},
   "outputs": [
    {
     "name": "stdout",
     "output_type": "stream",
     "text": [
      "Correct distribution: 1\n"
     ]
    }
   ],
   "source": [
    "correct_distribution = np.argmin(gmm.weights_)\n",
    "print(f\"Correct distribution: {correct_distribution}\")"
   ]
  },
  {
   "cell_type": "code",
   "execution_count": 33,
   "metadata": {},
   "outputs": [],
   "source": [
    "probs = []\n",
    "\n",
    "for i in range(len(alphabet)):\n",
    "    \n",
    "    if correct_distribution == 1:\n",
    "        probs += [np.sum(gmm.predict(np.array(deltas[i * n_queries : (i + 1) * n_queries]).reshape(-1, 1) / clean_std)) / n_queries]\n",
    "    else:\n",
    "        probs += [np.sum(1 - gmm.predict(np.array(deltas[i * n_queries : (i + 1) * n_queries]).reshape(-1, 1) / clean_std)) / n_queries]"
   ]
  },
  {
   "cell_type": "code",
   "execution_count": 34,
   "metadata": {},
   "outputs": [
    {
     "data": {
      "image/png": "[encoded data removed]",
      "text/plain": [
       "<Figure size 432x288 with 1 Axes>"
      ]
     },
     "metadata": {
      "needs_background": "light"
     },
     "output_type": "display_data"
    }
   ],
   "source": [
    "_ = plt.bar(range(0, len(alphabet)), probs)"
   ]
  },
  {
   "cell_type": "code",
   "execution_count": 35,
   "metadata": {},
   "outputs": [
    {
     "name": "stdout",
     "output_type": "stream",
     "text": [
      "Next character guess: 20\n"
     ]
    }
   ],
   "source": [
    "print(f\"Next character guess: {np.argmax(probs)}\")"
   ]
  },
  {
   "cell_type": "code",
   "execution_count": 50,
   "metadata": {},
   "outputs": [],
   "source": [
    "def password_compare(unknown_password, guess_password):\n",
    "    \n",
    "    return (unknown_password == guess_password)"
   ]
  },
  {
   "cell_type": "code",
   "execution_count": 116,
   "metadata": {},
   "outputs": [
    {
     "data": {
      "image/png": "[encoded data removed]",
      "text/plain": [
       "<Figure size 432x288 with 1 Axes>"
      ]
     },
     "metadata": {
      "needs_background": "light"
     },
     "output_type": "display_data"
    }
   ],
   "source": [
    "n_queries = 1000\n",
    "deltas = []\n",
    "\n",
    "for character in alphabet:\n",
    "    \n",
    "    for _ in range(n_queries):\n",
    "\n",
    "        # Note: '!' is NOT in the alphabet! This is important!\n",
    "        guess_password_km1 = unknown_password[:12] + ('!' * 12)\n",
    "        t_km1 = password_query(guess_password_km1)\n",
    "\n",
    "        guess_password_k = unknown_password[:12] + character + ('!' * 11)        \n",
    "        t_k = password_query(guess_password_k)\n",
    "\n",
    "        deltas += [(t_k - t_km1)]\n",
    "\n",
    "delta_range = np.median(deltas) - 1.5 * (np.quantile(deltas, 0.9) - np.quantile(deltas, 0.1)), \\\n",
    "              np.median(deltas) + 1.5 * (np.quantile(deltas, 0.9) - np.quantile(deltas, 0.1))\n",
    "\n",
    "_ = plt.hist(deltas, range=delta_range, density=True, bins=100)"
   ]
  },
  {
   "cell_type": "code",
   "execution_count": 117,
   "metadata": {},
   "outputs": [
    {
     "data": {
      "image/png": "[encoded data removed]",
      "text/plain": [
       "<Figure size 432x288 with 1 Axes>"
      ]
     },
     "metadata": {
      "needs_background": "light"
     },
     "output_type": "display_data"
    }
   ],
   "source": [
    "incorrect_deltas = deltas[:next_char_index * n_queries] + deltas[(next_char_index + 1) * n_queries:]\n",
    "correct_deltas = deltas[next_char_index * n_queries:(next_char_index + 1) * n_queries]\n",
    "\n",
    "_ = plt.hist(incorrect_deltas, range=delta_range, density=True, bins=100, label='Incorrect')\n",
    "_ = plt.hist(correct_deltas, range=delta_range, density=True, bins=100, label='Correct')\n",
    "_ = plt.legend()"
   ]
  },
  {
   "cell_type": "code",
   "execution_count": 118,
   "metadata": {},
   "outputs": [],
   "source": [
    "clean_deltas = list(filter(lambda delta: delta > delta_range[0] and delta < delta_range[1], deltas))"
   ]
  },
  {
   "cell_type": "code",
   "execution_count": 119,
   "metadata": {},
   "outputs": [
    {
     "name": "stdout",
     "output_type": "stream",
     "text": [
      "Clean delta standard deviation: 4.123092946638506e-08\n"
     ]
    }
   ],
   "source": [
    "clean_std = np.std(clean_deltas)\n",
    "print(f\"Clean delta standard deviation: {clean_std}\")"
   ]
  },
  {
   "cell_type": "code",
   "execution_count": 120,
   "metadata": {},
   "outputs": [],
   "source": [
    "std_clean_deltas = np.array(clean_deltas) / clean_std"
   ]
  },
  {
   "cell_type": "code",
   "execution_count": 121,
   "metadata": {},
   "outputs": [
    {
     "data": {
      "image/png": "[encoded data removed]",
      "text/plain": [
       "<Figure size 432x288 with 1 Axes>"
      ]
     },
     "metadata": {
      "needs_background": "light"
     },
     "output_type": "display_data"
    }
   ],
   "source": [
    "_ = plt.hist(std_clean_deltas, density=True, bins=100)"
   ]
  },
  {
   "cell_type": "code",
   "execution_count": 122,
   "metadata": {},
   "outputs": [],
   "source": [
    "gmm = GaussianMixture(n_components=2)\n",
    "_ = gmm.fit(np.array(std_clean_deltas).reshape(-1, 1))"
   ]
  },
  {
   "cell_type": "code",
   "execution_count": 123,
   "metadata": {},
   "outputs": [
    {
     "name": "stdout",
     "output_type": "stream",
     "text": [
      "Means: -2.7639216616338116, 0.05944759042636115\n",
      "Variances: 0.5192018450230972, 0.579763269245817\n",
      "Weights: 0.056317630573016204, 0.9436823694270431\n"
     ]
    }
   ],
   "source": [
    "print(f\"Means: {gmm.means_[0, 0]}, {gmm.means_[1, 0]}\")\n",
    "print(f\"Variances: {gmm.covariances_[0, 0, 0]}, {gmm.covariances_[1, 0, 0]}\")\n",
    "print(f\"Weights: {gmm.weights_[0]}, {gmm.weights_[1]}\")"
   ]
  },
  {
   "cell_type": "code",
   "execution_count": 124,
   "metadata": {},
   "outputs": [
    {
     "data": {
      "image/png": "[encoded data removed]",
      "text/plain": [
       "<Figure size 432x288 with 1 Axes>"
      ]
     },
     "metadata": {
      "needs_background": "light"
     },
     "output_type": "display_data"
    }
   ],
   "source": [
    "_ = plt.hist(std_clean_deltas, bins=100, density=True)\n",
    "\n",
    "xx = np.arange(clean_delta_range[0], clean_delta_range[1], 0.01)\n",
    "\n",
    "_ = plt.plot(xx, scipy.stats.norm.pdf(xx, gmm.means_[0,0], gmm.covariances_[0,0,0]))\n",
    "_ = plt.plot(xx, scipy.stats.norm.pdf(xx, gmm.means_[1,0], gmm.covariances_[1,0,0]))"
   ]
  },
  {
   "cell_type": "code",
   "execution_count": 125,
   "metadata": {},
   "outputs": [
    {
     "name": "stdout",
     "output_type": "stream",
     "text": [
      "Correct distribution: 0\n"
     ]
    }
   ],
   "source": [
    "correct_distribution = np.argmin(gmm.weights_)\n",
    "print(f\"Correct distribution: {correct_distribution}\")"
   ]
  },
  {
   "cell_type": "code",
   "execution_count": 126,
   "metadata": {},
   "outputs": [],
   "source": [
    "probs = []\n",
    "\n",
    "for i in range(len(alphabet)):\n",
    "    \n",
    "    if correct_distribution == 1:\n",
    "        probs += [np.sum(gmm.predict(np.array(deltas[i * n_queries : (i + 1) * n_queries]).reshape(-1, 1) / clean_std)) / n_queries]\n",
    "    else:\n",
    "        probs += [np.sum(1 - gmm.predict(np.array(deltas[i * n_queries : (i + 1) * n_queries]).reshape(-1, 1) / clean_std)) / n_queries]"
   ]
  },
  {
   "cell_type": "code",
   "execution_count": 127,
   "metadata": {},
   "outputs": [
    {
     "data": {
      "image/png": "[encoded data removed]",
      "text/plain": [
       "<Figure size 432x288 with 1 Axes>"
      ]
     },
     "metadata": {
      "needs_background": "light"
     },
     "output_type": "display_data"
    }
   ],
   "source": [
    "_ = plt.bar(range(0, len(alphabet)), probs)"
   ]
  },
  {
   "cell_type": "code",
   "execution_count": 128,
   "metadata": {},
   "outputs": [
    {
     "name": "stdout",
     "output_type": "stream",
     "text": [
      "Next character guess: 13\n"
     ]
    }
   ],
   "source": [
    "print(f\"Next character guess: {np.argmax(probs)}\")"
   ]
  },
  {
   "cell_type": "markdown",
   "metadata": {},
   "source": [
    "## Naive Approach (Fast)\n",
    "\n",
    "Let's try our naive approach again and see if the results are as clear as before."
   ]
  },
  {
   "cell_type": "code",
   "execution_count": 31,
   "metadata": {},
   "outputs": [
    {
     "data": {
      "image/png": "[encoded data removed]",
      "text/plain": [
       "<Figure size 432x288 with 1 Axes>"
      ]
     },
     "metadata": {
      "needs_background": "light"
     },
     "output_type": "display_data"
    }
   ],
   "source": [
    "medians = []\n",
    "\n",
    "for i in range(len(alphabet)):\n",
    "    \n",
    "    medians += [np.median(deltas[i * n_queries : (i + 1) * n_queries])]\n",
    "    \n",
    "_ = plt.bar(range(len(alphabet)), medians)"
   ]
  },
  {
   "cell_type": "markdown",
   "metadata": {},
   "source": [
    "Let's try our same decision process from before and select the character with the largest median."
   ]
  },
  {
   "cell_type": "code",
   "execution_count": 32,
   "metadata": {},
   "outputs": [
    {
     "name": "stdout",
     "output_type": "stream",
     "text": [
      "Next character guess: 6\n"
     ]
    }
   ],
   "source": [
    "print(f\"Next character guess: {np.argmax(medians)}\")"
   ]
  },
  {
   "cell_type": "markdown",
   "metadata": {},
   "source": [
    "Unfortunately, this is not the correct answer. Maybe the mean is the better approach?"
   ]
  },
  {
   "cell_type": "code",
   "execution_count": 33,
   "metadata": {},
   "outputs": [
    {
     "data": {
      "image/png": "[encoded data removed]",
      "text/plain": [
       "<Figure size 432x288 with 1 Axes>"
      ]
     },
     "metadata": {
      "needs_background": "light"
     },
     "output_type": "display_data"
    }
   ],
   "source": [
    "means = []\n",
    "\n",
    "for i in range(len(alphabet)):\n",
    "    \n",
    "    means += [np.mean(deltas[i * n_queries : (i + 1) * n_queries])]\n",
    "    \n",
    "_ = plt.bar(range(len(alphabet)), means)"
   ]
  },
  {
   "cell_type": "code",
   "execution_count": 34,
   "metadata": {},
   "outputs": [
    {
     "name": "stdout",
     "output_type": "stream",
     "text": [
      "Next character guess: 8\n"
     ]
    }
   ],
   "source": [
    "print(f\"Next character guess: {np.argmax(means)}\")"
   ]
  },
  {
   "cell_type": "markdown",
   "metadata": {},
   "source": [
    "Again, this is not the correct answer. (Also notice how this result is worse because of outliers!) What about the magnitude of the inner 90\\% of the data? (Think of this as standard deviation resistant to outliers.)"
   ]
  },
  {
   "cell_type": "code",
   "execution_count": 35,
   "metadata": {},
   "outputs": [
    {
     "data": {
      "image/png": "[encoded data removed]",
      "text/plain": [
       "<Figure size 432x288 with 1 Axes>"
      ]
     },
     "metadata": {
      "needs_background": "light"
     },
     "output_type": "display_data"
    }
   ],
   "source": [
    "iqs = []\n",
    "\n",
    "for i in range(len(alphabet)):\n",
    "    \n",
    "    iqs += [np.quantile(deltas[i * n_queries : (i + 1) * n_queries], 0.95) \\\n",
    "            - np.quantile(deltas[i * n_queries : (i + 1) * n_queries], 0.05)]\n",
    "    \n",
    "_ = plt.bar(range(len(alphabet)), iqs)"
   ]
  },
  {
   "cell_type": "code",
   "execution_count": 36,
   "metadata": {},
   "outputs": [
    {
     "name": "stdout",
     "output_type": "stream",
     "text": [
      "Next character guess: 23\n"
     ]
    }
   ],
   "source": [
    "print(f\"Next character guess: {np.argmax(iqs)}\")"
   ]
  },
  {
   "cell_type": "markdown",
   "metadata": {},
   "source": [
    "Again, this is incorrect. Once more: let's try the standard deviation."
   ]
  },
  {
   "cell_type": "code",
   "execution_count": 37,
   "metadata": {},
   "outputs": [
    {
     "data": {
      "image/png": "[encoded data removed]",
      "text/plain": [
       "<Figure size 432x288 with 1 Axes>"
      ]
     },
     "metadata": {
      "needs_background": "light"
     },
     "output_type": "display_data"
    }
   ],
   "source": [
    "stds = []\n",
    "\n",
    "for i in range(len(alphabet)):\n",
    "    \n",
    "    stds += [np.std(deltas[i * n_queries : (i + 1) * n_queries])]\n",
    "    \n",
    "_ = plt.bar(range(len(alphabet)), stds)"
   ]
  },
  {
   "cell_type": "code",
   "execution_count": 38,
   "metadata": {},
   "outputs": [
    {
     "name": "stdout",
     "output_type": "stream",
     "text": [
      "Next character guess: 15\n"
     ]
    }
   ],
   "source": [
    "print(f\"Next character guess: {np.argmax(stds)}\")"
   ]
  },
  {
   "cell_type": "markdown",
   "metadata": {},
   "source": [
    "Still wrong! (Again, notice how the standard deviation is worse because of outliers!) Clearly a naive approach is not going to work here."
   ]
  },
  {
   "cell_type": "markdown",
   "metadata": {},
   "source": [
    "## Gaussian Mixture Model Approach (Fast)\n",
    "\n",
    "Now we can try our more technical approach to see if it yields more accurate results."
   ]
  },
  {
   "cell_type": "code",
   "execution_count": 39,
   "metadata": {},
   "outputs": [
    {
     "name": "stdout",
     "output_type": "stream",
     "text": [
      "Means: -0.2084185273630874, -1.6999707257079035\n",
      "Variances: 0.8360879997709824, 132.6629931377934\n",
      "Weights: 0.6973255204467007, 0.3026744795533111\n"
     ]
    }
   ],
   "source": [
    "deltas_clean = list(filter(lambda delta: (delta > delta_range[0]) and (delta < delta_range[1]), deltas))\n",
    "\n",
    "gmm = GaussianMixture(n_components=2)\n",
    "_ = gmm.fit(np.array(deltas_clean).reshape(-1, 1))\n",
    "\n",
    "print(f\"Means: {gmm.means_[0, 0]}, {gmm.means_[1, 0]}\")\n",
    "print(f\"Variances: {gmm.covariances_[0, 0, 0]}, {gmm.covariances_[1, 0, 0]}\")\n",
    "print(f\"Weights: {gmm.weights_[0]}, {gmm.weights_[1]}\")"
   ]
  },
  {
   "cell_type": "markdown",
   "metadata": {},
   "source": [
    "These results seem a little wierd. Let's take a look at the resulting PDFs."
   ]
  },
  {
   "cell_type": "code",
   "execution_count": 40,
   "metadata": {},
   "outputs": [
    {
     "data": {
      "image/png": "[encoded data removed]",
      "text/plain": [
       "<Figure size 432x288 with 1 Axes>"
      ]
     },
     "metadata": {
      "needs_background": "light"
     },
     "output_type": "display_data"
    }
   ],
   "source": [
    "_ = plt.hist(deltas, range=delta_range, bins=100, density=True)\n",
    "\n",
    "xx = np.arange(delta_range[0], delta_range[1], 0.01)\n",
    "\n",
    "_ = plt.plot(xx, scipy.stats.norm.pdf(xx, gmm.means_[0,0], gmm.covariances_[0,0,0]))\n",
    "_ = plt.plot(xx, scipy.stats.norm.pdf(xx, gmm.means_[1,0], gmm.covariances_[1,0,0]))"
   ]
  },
  {
   "cell_type": "code",
   "execution_count": 41,
   "metadata": {},
   "outputs": [
    {
     "data": {
      "image/png": "[encoded data removed]",
      "text/plain": [
       "<Figure size 432x288 with 1 Axes>"
      ]
     },
     "metadata": {
      "needs_background": "light"
     },
     "output_type": "display_data"
    }
   ],
   "source": [
    "correct_distribution = np.argmin(gmm.weights_)\n",
    "\n",
    "probs = []\n",
    "\n",
    "for i in range(len(alphabet)):\n",
    "    \n",
    "    if correct_distribution == 1:\n",
    "        probs += [np.sum(gmm.predict(np.array(deltas[i * n_queries : (i + 1) * n_queries]).reshape(-1, 1))) / n_queries]\n",
    "    else:\n",
    "        probs += [np.sum(1 - gmm.predict(np.array(deltas[i * n_queries : (i + 1) * n_queries]).reshape(-1, 1))) / n_queries]\n",
    "\n",
    "_ = plt.bar(range(0, len(alphabet)), probs)"
   ]
  },
  {
   "cell_type": "code",
   "execution_count": 42,
   "metadata": {},
   "outputs": [
    {
     "name": "stdout",
     "output_type": "stream",
     "text": [
      "Next character guess: 17\n"
     ]
    }
   ],
   "source": [
    "print(f\"Next character guess: {np.argmax(probs)}\")"
   ]
  },
  {
   "cell_type": "markdown",
   "metadata": {},
   "source": [
    "It appears that the Gaussian mixture didn't do much better than the naive approach!"
   ]
  }
 ],
 "metadata": {
  "kernelspec": {
   "display_name": "Python 3",
   "language": "python",
   "name": "python3"
  },
  "language_info": {
   "codemirror_mode": {
    "name": "ipython",
    "version": 3
   },
   "file_extension": ".py",
   "mimetype": "text/x-python",
   "name": "python",
   "nbconvert_exporter": "python",
   "pygments_lexer": "ipython3",
   "version": "3.6.7"
  }
 },
 "nbformat": 4,
 "nbformat_minor": 2
}
