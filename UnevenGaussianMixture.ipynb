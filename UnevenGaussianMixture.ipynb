{
 "cells": [
  {
   "cell_type": "code",
   "execution_count": 11,
   "metadata": {},
   "outputs": [],
   "source": [
    "import scipy.stats\n",
    "from sklearn.mixture import BayesianGaussianMixture\n",
    "import numpy\n",
    "from matplotlib import pyplot as plt"
   ]
  },
  {
   "cell_type": "code",
   "execution_count": 39,
   "metadata": {},
   "outputs": [],
   "source": [
    "class Gaussian:\n",
    "    \n",
    "    def __init__(self, mean, std):\n",
    "        \n",
    "        self.mean = mean\n",
    "        self.std = std\n",
    "    \n",
    "    def sample(self, size):\n",
    "        \n",
    "        return numpy.random.normal(self.mean, self.std, size)\n",
    "    \n",
    "    def pdf(self, x):\n",
    "        \n",
    "        return scipy.stats.norm.pdf(x, self.mean, self.std)"
   ]
  },
  {
   "cell_type": "code",
   "execution_count": 88,
   "metadata": {},
   "outputs": [],
   "source": [
    "g1 = Gaussian(0.0, 0.001)\n",
    "g2 = Gaussian(0.01, 0.01)"
   ]
  },
  {
   "cell_type": "code",
   "execution_count": 90,
   "metadata": {},
   "outputs": [
    {
     "data": {
      "image/png": "[encoded data removed]",
      "text/plain": [
       "<Figure size 432x288 with 1 Axes>"
      ]
     },
     "metadata": {
      "needs_background": "light"
     },
     "output_type": "display_data"
    }
   ],
   "source": [
    "xx = numpy.linspace(-0.1, 0.1, 1000)\n",
    "\n",
    "_ = plt.plot(xx, g1.pdf(xx))\n",
    "_ = plt.plot(xx, g2.pdf(xx))\n",
    "\n",
    "_ = plt.ylim(0, 100)\n",
    "_ = plt.xlim(-0.1, 0.1)"
   ]
  },
  {
   "cell_type": "code",
   "execution_count": 196,
   "metadata": {},
   "outputs": [],
   "source": [
    "samp1 = g1.sample(61000)\n",
    "samp2 = g2.sample(1000)"
   ]
  },
  {
   "cell_type": "code",
   "execution_count": 197,
   "metadata": {},
   "outputs": [
    {
     "data": {
      "image/png": "[encoded data removed]",
      "text/plain": [
       "<Figure size 432x288 with 1 Axes>"
      ]
     },
     "metadata": {
      "needs_background": "light"
     },
     "output_type": "display_data"
    }
   ],
   "source": [
    "_ = plt.hist(samp1, range=(-0.1, 0.1), bins=100)\n",
    "_ = plt.hist(samp2, range=(-0.1, 0.1), bins=100)\n",
    "\n",
    "_ = plt.ylim(0, 100)\n",
    "_ = plt.xlim(-0.1, 0.1)"
   ]
  },
  {
   "cell_type": "code",
   "execution_count": 203,
   "metadata": {},
   "outputs": [
    {
     "data": {
      "text/plain": [
       "BayesianGaussianMixture(covariance_prior=[[0.8]], covariance_type='full',\n",
       "                        degrees_of_freedom_prior=None, init_params='kmeans',\n",
       "                        max_iter=100, mean_precision_prior=None, mean_prior=[0],\n",
       "                        n_components=2, n_init=1, random_state=None,\n",
       "                        reg_covar=1e-06, tol=0.001, verbose=0,\n",
       "                        verbose_interval=10, warm_start=False,\n",
       "                        weight_concentration_prior=None,\n",
       "                        weight_concentration_prior_type='dirichlet_process')"
      ]
     },
     "execution_count": 203,
     "metadata": {},
     "output_type": "execute_result"
    }
   ],
   "source": [
    "bgmm = BayesianGaussianMixture(n_components=2, covariance_prior=[[0.8]], mean_prior=[0])\n",
    "bgmm.fit(numpy.hstack([samp1, samp2]).reshape(-1, 1))"
   ]
  },
  {
   "cell_type": "code",
   "execution_count": 204,
   "metadata": {},
   "outputs": [
    {
     "data": {
      "text/plain": [
       "array([[7.13441850e-05],\n",
       "       [1.94966869e-02]])"
      ]
     },
     "execution_count": 204,
     "metadata": {},
     "output_type": "execute_result"
    }
   ],
   "source": [
    "bgmm.means_"
   ]
  },
  {
   "cell_type": "code",
   "execution_count": 205,
   "metadata": {},
   "outputs": [
    {
     "data": {
      "text/plain": [
       "array([[[1.58723249e-05]],\n",
       "\n",
       "       [[2.92262604e-03]]])"
      ]
     },
     "execution_count": 205,
     "metadata": {},
     "output_type": "execute_result"
    }
   ],
   "source": [
    "bgmm.covariances_"
   ]
  },
  {
   "cell_type": "code",
   "execution_count": 206,
   "metadata": {},
   "outputs": [
    {
     "data": {
      "text/plain": [
       "array([0.99547826, 0.00452174])"
      ]
     },
     "execution_count": 206,
     "metadata": {},
     "output_type": "execute_result"
    }
   ],
   "source": [
    "bgmm.weights_"
   ]
  },
  {
   "cell_type": "code",
   "execution_count": 207,
   "metadata": {},
   "outputs": [
    {
     "data": {
      "image/png": "[encoded data removed]",
      "text/plain": [
       "<Figure size 432x288 with 1 Axes>"
      ]
     },
     "metadata": {
      "needs_background": "light"
     },
     "output_type": "display_data"
    }
   ],
   "source": [
    "xx = numpy.linspace(-0.1, 0.1, 100000)\n",
    "\n",
    "_ = plt.plot(xx, scipy.stats.norm.pdf(xx, bgmm.means_[0,0], bgmm.covariances_[0,0]))\n",
    "_ = plt.plot(xx, scipy.stats.norm.pdf(xx, bgmm.means_[1,0], bgmm.covariances_[1,0]))\n",
    "\n",
    "#_ = plt.hist(samp1, range=(-0.1, 0.1), bins=100)\n",
    "#_ = plt.hist(samp2, range=(-0.1, 0.1), bins=100)\n",
    "\n",
    "_ = plt.ylim(0, 100)\n",
    "_ = plt.xlim(-0.1, 0.1)"
   ]
  },
  {
   "cell_type": "code",
   "execution_count": null,
   "metadata": {},
   "outputs": [],
   "source": []
  }
 ],
 "metadata": {
  "kernelspec": {
   "display_name": "Python 3",
   "language": "python",
   "name": "python3"
  },
  "language_info": {
   "codemirror_mode": {
    "name": "ipython",
    "version": 3
   },
   "file_extension": ".py",
   "mimetype": "text/x-python",
   "name": "python",
   "nbconvert_exporter": "python",
   "pygments_lexer": "ipython3",
   "version": "3.6.7"
  }
 },
 "nbformat": 4,
 "nbformat_minor": 2
}
