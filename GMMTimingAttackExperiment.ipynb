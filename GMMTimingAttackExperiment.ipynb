{
 "cells": [
  {
   "cell_type": "code",
   "execution_count": 1,
   "metadata": {},
   "outputs": [],
   "source": [
    "import string\n",
    "import random\n",
    "from timeit import default_timer as timer\n",
    "from time import sleep, process_time\n",
    "from matplotlib import pyplot as plt\n",
    "import numpy as np\n",
    "from sklearn.mixture import GaussianMixture\n",
    "import pandas as pd\n",
    "import scipy"
   ]
  },
  {
   "cell_type": "code",
   "execution_count": 2,
   "metadata": {},
   "outputs": [
    {
     "name": "stdout",
     "output_type": "stream",
     "text": [
      "Alphabet: ABCDEFGHIJKLMNOPQRSTUVWXYZabcdefghijklmnopqrstuvwxyz0123456789\n"
     ]
    }
   ],
   "source": [
    "alphabet = string.ascii_uppercase + string.ascii_lowercase + string.digits\n",
    "print(f\"Alphabet: {alphabet}\")"
   ]
  },
  {
   "cell_type": "code",
   "execution_count": 3,
   "metadata": {},
   "outputs": [
    {
     "name": "stdout",
     "output_type": "stream",
     "text": [
      "Unknown password: qh9jWHQIPhFvtf5pkWes2Tza\n"
     ]
    }
   ],
   "source": [
    "unknown_password = ''.join(random.choices(alphabet, k=24))\n",
    "print(f\"Unknown password: {unknown_password}\")"
   ]
  },
  {
   "cell_type": "code",
   "execution_count": 4,
   "metadata": {},
   "outputs": [],
   "source": [
    "def password_compare(unknown_password, guess_password):\n",
    "    \n",
    "    i = 0\n",
    "    \n",
    "    while i < len(unknown_password) and i < len(guess_password):\n",
    "       \n",
    "        if unknown_password[i] != guess_password[i]:\n",
    "            return\n",
    "                \n",
    "        i += 1"
   ]
  },
  {
   "cell_type": "code",
   "execution_count": 5,
   "metadata": {},
   "outputs": [],
   "source": [
    "def password_query(guess_password):\n",
    "    \n",
    "    start = process_time()\n",
    "    password_compare(unknown_password, guess_password)\n",
    "    end = process_time()\n",
    "\n",
    "    return (end - start)"
   ]
  },
  {
   "cell_type": "code",
   "execution_count": 75,
   "metadata": {},
   "outputs": [],
   "source": [
    "n_queries = 500\n",
    "deltas = []\n",
    "\n",
    "for character in alphabet:\n",
    "    \n",
    "    for _ in range(n_queries):\n",
    "\n",
    "        # Note: '!' is NOT in the alphabet! This is important!\n",
    "        guess_password_km1 = unknown_password[:12] + ('!' * 12)\n",
    "        t_km1 = password_query(guess_password_km1)\n",
    "\n",
    "        guess_password_k = unknown_password[:12] + character + ('!' * 11)        \n",
    "        t_k = password_query(guess_password_k)\n",
    "\n",
    "        deltas += [(t_k - t_km1)]"
   ]
  },
  {
   "cell_type": "code",
   "execution_count": 76,
   "metadata": {},
   "outputs": [
    {
     "name": "stdout",
     "output_type": "stream",
     "text": [
      "Range: (-9.851500030855208e-07, 9.651500085361407e-07)\n"
     ]
    }
   ],
   "source": [
    "delta_range = np.median(deltas) - 1.5 * (np.quantile(deltas, 0.95) - np.quantile(deltas, 0.05)), \\\n",
    "              np.median(deltas) + 1.5 * (np.quantile(deltas, 0.95) - np.quantile(deltas, 0.05))\n",
    "print(f\"Range: {delta_range}\")"
   ]
  },
  {
   "cell_type": "code",
   "execution_count": 77,
   "metadata": {},
   "outputs": [
    {
     "data": {
      "image/png": "[encoded data removed]",
      "text/plain": [
       "<Figure size 432x288 with 1 Axes>"
      ]
     },
     "metadata": {
      "needs_background": "light"
     },
     "output_type": "display_data"
    }
   ],
   "source": [
    "_ = plt.hist(deltas, range=delta_range, density=True, bins=100)"
   ]
  },
  {
   "cell_type": "code",
   "execution_count": 78,
   "metadata": {},
   "outputs": [
    {
     "name": "stdout",
     "output_type": "stream",
     "text": [
      "Next character index: 45\n"
     ]
    }
   ],
   "source": [
    "next_char_index = alphabet.find(unknown_password[12])\n",
    "print(f\"Next character index: {next_char_index}\")"
   ]
  },
  {
   "cell_type": "code",
   "execution_count": 79,
   "metadata": {},
   "outputs": [],
   "source": [
    "incorrect_deltas = deltas[:next_char_index * n_queries] + deltas[(next_char_index + 1) * n_queries:]\n",
    "correct_deltas = deltas[next_char_index * n_queries:(next_char_index + 1) * n_queries]"
   ]
  },
  {
   "cell_type": "code",
   "execution_count": 80,
   "metadata": {},
   "outputs": [
    {
     "data": {
      "image/png": "[encoded data removed]",
      "text/plain": [
       "<Figure size 432x288 with 1 Axes>"
      ]
     },
     "metadata": {
      "needs_background": "light"
     },
     "output_type": "display_data"
    }
   ],
   "source": [
    "_ = plt.hist(incorrect_deltas, range=delta_range, density=True, bins=100, label='Incorrect')\n",
    "_ = plt.hist(correct_deltas, range=delta_range, density=True, bins=100, label='Correct')\n",
    "_ = plt.legend()"
   ]
  },
  {
   "cell_type": "code",
   "execution_count": 81,
   "metadata": {},
   "outputs": [],
   "source": [
    "clean_deltas = list(filter(lambda delta: delta > delta_range[0] and delta < delta_range[1], deltas))"
   ]
  },
  {
   "cell_type": "code",
   "execution_count": 82,
   "metadata": {},
   "outputs": [
    {
     "data": {
      "image/png": "[encoded data removed]",
      "text/plain": [
       "<Figure size 432x288 with 1 Axes>"
      ]
     },
     "metadata": {
      "needs_background": "light"
     },
     "output_type": "display_data"
    }
   ],
   "source": [
    "_ = plt.hist(clean_deltas, density=True, bins=100)"
   ]
  },
  {
   "cell_type": "code",
   "execution_count": 83,
   "metadata": {},
   "outputs": [
    {
     "name": "stdout",
     "output_type": "stream",
     "text": [
      "Clean delta standard deviation: 1.3016905283353586e-07\n"
     ]
    }
   ],
   "source": [
    "clean_std = np.std(clean_deltas)\n",
    "print(f\"Clean delta standard deviation: {clean_std}\")"
   ]
  },
  {
   "cell_type": "code",
   "execution_count": 84,
   "metadata": {},
   "outputs": [],
   "source": [
    "std_clean_deltas = np.array(clean_deltas) / clean_std"
   ]
  },
  {
   "cell_type": "code",
   "execution_count": 85,
   "metadata": {},
   "outputs": [
    {
     "data": {
      "image/png": "[encoded data removed]",
      "text/plain": [
       "<Figure size 432x288 with 1 Axes>"
      ]
     },
     "metadata": {
      "needs_background": "light"
     },
     "output_type": "display_data"
    }
   ],
   "source": [
    "_ = plt.hist(std_clean_deltas, density=True, bins=100)"
   ]
  },
  {
   "cell_type": "code",
   "execution_count": 86,
   "metadata": {},
   "outputs": [],
   "source": [
    "clean_delta_range = delta_range[0] / clean_std, delta_range[1] / clean_std"
   ]
  },
  {
   "cell_type": "code",
   "execution_count": 87,
   "metadata": {},
   "outputs": [],
   "source": [
    "medians = []\n",
    "\n",
    "for i in range(len(alphabet)):\n",
    "    \n",
    "    medians += [np.median(deltas[i * n_queries : (i + 1) * n_queries])]"
   ]
  },
  {
   "cell_type": "code",
   "execution_count": 88,
   "metadata": {},
   "outputs": [
    {
     "data": {
      "image/png": "[encoded data removed]",
      "text/plain": [
       "<Figure size 432x288 with 1 Axes>"
      ]
     },
     "metadata": {
      "needs_background": "light"
     },
     "output_type": "display_data"
    }
   ],
   "source": [
    "_ = plt.bar(range(len(alphabet)), medians)"
   ]
  },
  {
   "cell_type": "code",
   "execution_count": 89,
   "metadata": {},
   "outputs": [
    {
     "name": "stdout",
     "output_type": "stream",
     "text": [
      "Next character guess: 45\n"
     ]
    }
   ],
   "source": [
    "print(f\"Next character guess: {np.argmax(medians)}\")"
   ]
  },
  {
   "cell_type": "code",
   "execution_count": 90,
   "metadata": {},
   "outputs": [],
   "source": [
    "gmm = GaussianMixture(n_components=2)\n",
    "_ = gmm.fit(np.array(std_clean_deltas).reshape(-1, 1))"
   ]
  },
  {
   "cell_type": "code",
   "execution_count": 91,
   "metadata": {},
   "outputs": [
    {
     "name": "stdout",
     "output_type": "stream",
     "text": [
      "Means: -0.22338783863300654, -0.07888997636362845\n",
      "Variances: 6.018025677637183, 0.03769430800863821\n",
      "Weights: 0.16044164506105363, 0.8395583549389252\n"
     ]
    }
   ],
   "source": [
    "print(f\"Means: {gmm.means_[0, 0]}, {gmm.means_[1, 0]}\")\n",
    "print(f\"Variances: {gmm.covariances_[0, 0, 0]}, {gmm.covariances_[1, 0, 0]}\")\n",
    "print(f\"Weights: {gmm.weights_[0]}, {gmm.weights_[1]}\")"
   ]
  },
  {
   "cell_type": "code",
   "execution_count": 92,
   "metadata": {},
   "outputs": [
    {
     "data": {
      "image/png": "[encoded data removed]",
      "text/plain": [
       "<Figure size 432x288 with 1 Axes>"
      ]
     },
     "metadata": {
      "needs_background": "light"
     },
     "output_type": "display_data"
    }
   ],
   "source": [
    "_ = plt.hist(std_clean_deltas, bins=100, density=True)\n",
    "\n",
    "xx = np.arange(clean_delta_range[0], clean_delta_range[1], 0.01)\n",
    "\n",
    "_ = plt.plot(xx, scipy.stats.norm.pdf(xx, gmm.means_[0,0], gmm.covariances_[0,0,0]))\n",
    "_ = plt.plot(xx, scipy.stats.norm.pdf(xx, gmm.means_[1,0], gmm.covariances_[1,0,0]))"
   ]
  },
  {
   "cell_type": "code",
   "execution_count": 93,
   "metadata": {},
   "outputs": [
    {
     "name": "stdout",
     "output_type": "stream",
     "text": [
      "Correct distribution: 0\n"
     ]
    }
   ],
   "source": [
    "correct_distribution = np.argmin(gmm.weights_)\n",
    "print(f\"Correct distribution: {correct_distribution}\")"
   ]
  },
  {
   "cell_type": "code",
   "execution_count": 94,
   "metadata": {},
   "outputs": [],
   "source": [
    "probs = []\n",
    "\n",
    "for i in range(len(alphabet)):\n",
    "    \n",
    "    if correct_distribution == 1:\n",
    "        probs += [np.sum(gmm.predict(np.array(deltas[i * n_queries : (i + 1) * n_queries]).reshape(-1, 1) / clean_std)) / n_queries]\n",
    "    else:\n",
    "        probs += [np.sum(1 - gmm.predict(np.array(deltas[i * n_queries : (i + 1) * n_queries]).reshape(-1, 1) / clean_std)) / n_queries]"
   ]
  },
  {
   "cell_type": "code",
   "execution_count": 95,
   "metadata": {},
   "outputs": [
    {
     "data": {
      "image/png": "[encoded data removed]",
      "text/plain": [
       "<Figure size 432x288 with 1 Axes>"
      ]
     },
     "metadata": {
      "needs_background": "light"
     },
     "output_type": "display_data"
    }
   ],
   "source": [
    "_ = plt.bar(range(0, len(alphabet)), probs)"
   ]
  },
  {
   "cell_type": "code",
   "execution_count": 96,
   "metadata": {},
   "outputs": [
    {
     "name": "stdout",
     "output_type": "stream",
     "text": [
      "Next character guess: 45\n"
     ]
    }
   ],
   "source": [
    "print(f\"Next character guess: {np.argmax(probs)}\")"
   ]
  },
  {
   "cell_type": "code",
   "execution_count": 97,
   "metadata": {},
   "outputs": [],
   "source": [
    "def password_compare(unknown_password, guess_password):\n",
    "    \n",
    "    return (unknown_password == guess_password)"
   ]
  },
  {
   "cell_type": "code",
   "execution_count": 98,
   "metadata": {},
   "outputs": [
    {
     "data": {
      "image/png": "[encoded data removed]",
      "text/plain": [
       "<Figure size 432x288 with 1 Axes>"
      ]
     },
     "metadata": {
      "needs_background": "light"
     },
     "output_type": "display_data"
    }
   ],
   "source": [
    "n_queries = 1000\n",
    "deltas = []\n",
    "\n",
    "for character in alphabet:\n",
    "    \n",
    "    for _ in range(n_queries):\n",
    "\n",
    "        # Note: '!' is NOT in the alphabet! This is important!\n",
    "        guess_password_km1 = unknown_password[:12] + ('!' * 12)\n",
    "        t_km1 = password_query(guess_password_km1)\n",
    "\n",
    "        guess_password_k = unknown_password[:12] + character + ('!' * 11)        \n",
    "        t_k = password_query(guess_password_k)\n",
    "\n",
    "        deltas += [(t_k - t_km1)]\n",
    "\n",
    "delta_range = np.median(deltas) - 1.5 * (np.quantile(deltas, 0.9) - np.quantile(deltas, 0.1)), \\\n",
    "              np.median(deltas) + 1.5 * (np.quantile(deltas, 0.9) - np.quantile(deltas, 0.1))\n",
    "\n",
    "_ = plt.hist(deltas, range=delta_range, density=True, bins=100)"
   ]
  },
  {
   "cell_type": "code",
   "execution_count": 99,
   "metadata": {},
   "outputs": [
    {
     "data": {
      "image/png": "[encoded data removed]",
      "text/plain": [
       "<Figure size 432x288 with 1 Axes>"
      ]
     },
     "metadata": {
      "needs_background": "light"
     },
     "output_type": "display_data"
    }
   ],
   "source": [
    "incorrect_deltas = deltas[:next_char_index * n_queries] + deltas[(next_char_index + 1) * n_queries:]\n",
    "correct_deltas = deltas[next_char_index * n_queries:(next_char_index + 1) * n_queries]\n",
    "\n",
    "_ = plt.hist(incorrect_deltas, range=delta_range, density=True, bins=100, label='Incorrect')\n",
    "_ = plt.hist(correct_deltas, range=delta_range, density=True, bins=100, label='Correct')\n",
    "_ = plt.legend()"
   ]
  },
  {
   "cell_type": "code",
   "execution_count": 100,
   "metadata": {},
   "outputs": [],
   "source": [
    "clean_deltas = list(filter(lambda delta: delta > delta_range[0] and delta < delta_range[1], deltas))"
   ]
  },
  {
   "cell_type": "code",
   "execution_count": 101,
   "metadata": {},
   "outputs": [
    {
     "name": "stdout",
     "output_type": "stream",
     "text": [
      "Clean delta standard deviation: 1.2661343567330932e-08\n"
     ]
    }
   ],
   "source": [
    "clean_std = np.std(clean_deltas)\n",
    "print(f\"Clean delta standard deviation: {clean_std}\")"
   ]
  },
  {
   "cell_type": "code",
   "execution_count": 102,
   "metadata": {},
   "outputs": [],
   "source": [
    "std_clean_deltas = np.array(clean_deltas) / clean_std"
   ]
  },
  {
   "cell_type": "code",
   "execution_count": 103,
   "metadata": {},
   "outputs": [
    {
     "data": {
      "image/png": "[encoded data removed]",
      "text/plain": [
       "<Figure size 432x288 with 1 Axes>"
      ]
     },
     "metadata": {
      "needs_background": "light"
     },
     "output_type": "display_data"
    }
   ],
   "source": [
    "_ = plt.hist(std_clean_deltas, density=True, bins=100)"
   ]
  },
  {
   "cell_type": "code",
   "execution_count": 104,
   "metadata": {},
   "outputs": [],
   "source": [
    "gmm = GaussianMixture(n_components=2)\n",
    "_ = gmm.fit(np.array(std_clean_deltas).reshape(-1, 1))"
   ]
  },
  {
   "cell_type": "code",
   "execution_count": 105,
   "metadata": {},
   "outputs": [
    {
     "name": "stdout",
     "output_type": "stream",
     "text": [
      "Means: 0.029636567094054263, -0.11441827977037523\n",
      "Variances: 3.4608328136057382, 0.35532234706387816\n",
      "Weights: 0.20649692032365674, 0.7935030796762761\n"
     ]
    }
   ],
   "source": [
    "print(f\"Means: {gmm.means_[0, 0]}, {gmm.means_[1, 0]}\")\n",
    "print(f\"Variances: {gmm.covariances_[0, 0, 0]}, {gmm.covariances_[1, 0, 0]}\")\n",
    "print(f\"Weights: {gmm.weights_[0]}, {gmm.weights_[1]}\")"
   ]
  },
  {
   "cell_type": "code",
   "execution_count": 106,
   "metadata": {},
   "outputs": [
    {
     "data": {
      "image/png": "[encoded data removed]",
      "text/plain": [
       "<Figure size 432x288 with 1 Axes>"
      ]
     },
     "metadata": {
      "needs_background": "light"
     },
     "output_type": "display_data"
    }
   ],
   "source": [
    "_ = plt.hist(std_clean_deltas, bins=100, density=True)\n",
    "\n",
    "xx = np.arange(clean_delta_range[0], clean_delta_range[1], 0.01)\n",
    "\n",
    "_ = plt.plot(xx, scipy.stats.norm.pdf(xx, gmm.means_[0,0], gmm.covariances_[0,0,0]))\n",
    "_ = plt.plot(xx, scipy.stats.norm.pdf(xx, gmm.means_[1,0], gmm.covariances_[1,0,0]))"
   ]
  },
  {
   "cell_type": "code",
   "execution_count": 107,
   "metadata": {},
   "outputs": [
    {
     "name": "stdout",
     "output_type": "stream",
     "text": [
      "Correct distribution: 0\n"
     ]
    }
   ],
   "source": [
    "correct_distribution = np.argmin(gmm.weights_)\n",
    "print(f\"Correct distribution: {correct_distribution}\")"
   ]
  },
  {
   "cell_type": "code",
   "execution_count": 108,
   "metadata": {},
   "outputs": [],
   "source": [
    "probs = []\n",
    "\n",
    "for i in range(len(alphabet)):\n",
    "    \n",
    "    if correct_distribution == 1:\n",
    "        probs += [np.sum(gmm.predict(np.array(deltas[i * n_queries : (i + 1) * n_queries]).reshape(-1, 1) / clean_std)) / n_queries]\n",
    "    else:\n",
    "        probs += [np.sum(1 - gmm.predict(np.array(deltas[i * n_queries : (i + 1) * n_queries]).reshape(-1, 1) / clean_std)) / n_queries]"
   ]
  },
  {
   "cell_type": "code",
   "execution_count": 109,
   "metadata": {},
   "outputs": [
    {
     "data": {
      "image/png": "[encoded data removed]",
      "text/plain": [
       "<Figure size 432x288 with 1 Axes>"
      ]
     },
     "metadata": {
      "needs_background": "light"
     },
     "output_type": "display_data"
    }
   ],
   "source": [
    "_ = plt.bar(range(0, len(alphabet)), probs)"
   ]
  },
  {
   "cell_type": "code",
   "execution_count": 110,
   "metadata": {},
   "outputs": [
    {
     "name": "stdout",
     "output_type": "stream",
     "text": [
      "Next character guess: 9\n"
     ]
    }
   ],
   "source": [
    "print(f\"Next character guess: {np.argmax(probs)}\")"
   ]
  }
 ],
 "metadata": {
  "kernelspec": {
   "display_name": "Python 3",
   "language": "python",
   "name": "python3"
  },
  "language_info": {
   "codemirror_mode": {
    "name": "ipython",
    "version": 3
   },
   "file_extension": ".py",
   "mimetype": "text/x-python",
   "name": "python",
   "nbconvert_exporter": "python",
   "pygments_lexer": "ipython3",
   "version": "3.6.7"
  }
 },
 "nbformat": 4,
 "nbformat_minor": 2
}
